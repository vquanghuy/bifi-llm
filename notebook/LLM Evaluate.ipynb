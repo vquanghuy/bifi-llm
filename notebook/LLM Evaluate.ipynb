{
 "cells": [
  {
   "cell_type": "markdown",
   "id": "969bcfd6-7ec0-4779-86bd-6e047d6ff1ab",
   "metadata": {},
   "source": [
    "# Helper functions"
   ]
  },
  {
   "cell_type": "markdown",
   "id": "0a02a6af-6b3d-4480-8f22-4f203e0e89d2",
   "metadata": {},
   "source": [
    "# Evaluate GitHub Python"
   ]
  },
  {
   "cell_type": "markdown",
   "id": "16321896-dd05-48cf-995f-10b1a422a10f",
   "metadata": {},
   "source": [
    "## Helper functions"
   ]
  },
  {
   "cell_type": "code",
   "execution_count": 45,
   "id": "85944a5f-510a-4d95-8c14-4dc84d686b8a",
   "metadata": {},
   "outputs": [],
   "source": [
    "# Load the test dataset\n",
    "import json\n",
    "import os\n",
    "\n",
    "def load_json_from_folder(folder_path):\n",
    "  \"\"\"\n",
    "  Loads all JSON files from a specified folder.\n",
    "\n",
    "  Args:\n",
    "    folder_path: The path to the folder containing the JSON files.\n",
    "\n",
    "  Returns:\n",
    "    A list containing all JSON objects from the files.\n",
    "  \"\"\"\n",
    "\n",
    "  data_packages = []\n",
    "  for filename in os.listdir(folder_path):\n",
    "    if filename.endswith(\".json\"):\n",
    "      filepath = os.path.join(folder_path, filename)\n",
    "      try:\n",
    "        with open(filepath, 'r') as f:\n",
    "          data = json.load(f)\n",
    "          data_packages.append(data)\n",
    "      except json.JSONDecodeError as e:\n",
    "        print(f\"Error decoding JSON in file {filename}: {e}\")\n",
    "          \n",
    "  return data_packages\n",
    "\n",
    "def load_json_from_file(json_file):\n",
    "    try:\n",
    "        with open(json_file, 'r') as f:\n",
    "            data = json.load(f)\n",
    "    except json.JSONDecodeError as e:\n",
    "        print(f\"Error decoding JSON in file {json_file}: {e}\")  # Corrected line\n",
    "        return None\n",
    "\n",
    "    return data\n",
    "\n",
    "def write_json_to_file(json_data, filename, indent=4):\n",
    "  \"\"\"\n",
    "  Writes JSON data to a file.\n",
    "\n",
    "  Args:\n",
    "    json_data: The JSON data to write (can be a dictionary or a list).\n",
    "    filename: The name of the file to write to.\n",
    "    indent: (Optional) The number of spaces to use for indentation. \n",
    "            Defaults to 4 for better readability.\n",
    "  \"\"\"\n",
    "\n",
    "  with open(filename, 'w') as f:\n",
    "    json.dump(json_data, f, indent=indent)"
   ]
  },
  {
   "cell_type": "code",
   "execution_count": 2,
   "id": "f71657c6-51e3-49d0-a246-9a2f7c5ac493",
   "metadata": {},
   "outputs": [],
   "source": [
    "import ast\n",
    "\n",
    "def validate_code(code_str):\n",
    "  \"\"\"\n",
    "  Validates Python code and returns error information if any.\n",
    "\n",
    "  Args:\n",
    "    code_str: The Python code as a string.\n",
    "\n",
    "  Returns:\n",
    "    None if the code is valid, otherwise a string describing the syntax error.\n",
    "  \"\"\"\n",
    "  try:\n",
    "    ast.parse(code_str)\n",
    "    return None  # No error\n",
    "  except SyntaxError as e:\n",
    "    return str(e)  # Return the error message as a string"
   ]
  },
  {
   "cell_type": "code",
   "execution_count": 20,
   "id": "cff8a2ad-8a2e-4148-b42b-00fd2f8b9ad9",
   "metadata": {},
   "outputs": [],
   "source": [
    "def replace_key_in_json(json_obj, key_to_replace, new_value):\n",
    "  \"\"\"\n",
    "  Creates a new JSON object with a specific key replaced.\n",
    "\n",
    "  Args:\n",
    "    json_obj: The original JSON object.\n",
    "    key_to_replace: The key to be replaced.\n",
    "    new_value: The new value for the key.\n",
    "\n",
    "  Returns:\n",
    "    A new JSON object with the key replaced.\n",
    "  \"\"\"\n",
    "\n",
    "  new_json_obj = json.loads(json.dumps(json_obj))  # Create a deep copy\n",
    "  new_json_obj[key_to_replace] = new_value\n",
    "  return new_json_obj"
   ]
  },
  {
   "cell_type": "markdown",
   "id": "7f81b545-a086-4d14-9e7b-e98f1552fc3b",
   "metadata": {},
   "source": [
    "## Load the dataset"
   ]
  },
  {
   "cell_type": "code",
   "execution_count": 3,
   "id": "c2e4d5c9-d2c5-4159-9845-93b683faeee5",
   "metadata": {},
   "outputs": [],
   "source": [
    "github_python_dataset = \"../github-python-test\"\n",
    "\n",
    "# The original paper use the 3 4 as hold-out test set\n",
    "test_dataset = [];\n",
    "test_dataset.append(load_json_from_file(os.path.join(github_python_dataset, 'model-fixer.pred.evaluated.3.json')))\n",
    "test_dataset.append(load_json_from_file(os.path.join(github_python_dataset, 'model-fixer.pred.evaluated.4.json')))"
   ]
  },
  {
   "cell_type": "code",
   "execution_count": 4,
   "id": "60761007-dc6f-486e-8f38-f6683c88463e",
   "metadata": {},
   "outputs": [
    {
     "name": "stdout",
     "output_type": "stream",
     "text": [
      "Total number of samples: 15055\n",
      "First code:\n",
      " def test_pp_no_constraint ( self ) :\n",
      "    filenames = [ tests . get_data_path ( ( \"str\" , \"str\" , \"str\" ) ) ]\n",
      "    pp_constraints = pp . _convert_constraints ( None )\n",
      "    pp_loader = iris . fileformats . rules . Loader ( pp . load , { } ,\n",
      "        convert , pp . _load_rules )\n",
      "    cubes = list ( load_cubes ( filenames , None , pp_loader , pp_constraints )\n",
      "    self . assertEqual ( len ( cubes ) , 152 )\n",
      "\n",
      "Error (if any): '(' was never closed (<unknown>, line 6)\n"
     ]
    }
   ],
   "source": [
    "total_samples = len(test_dataset[0]) + len(test_dataset[1])\n",
    "first_code = test_dataset[0][0]['src']['string_format']\n",
    "\n",
    "print(f\"Total number of samples: {total_samples}\")\n",
    "print(f\"First code:\\n {first_code}\")\n",
    "print(f\"Error (if any): {validate_code(first_code)}\")"
   ]
  },
  {
   "cell_type": "markdown",
   "id": "f3706aab-3fd9-4c5b-832d-2e5b5bff6987",
   "metadata": {},
   "source": [
    "## Prepare the model"
   ]
  },
  {
   "cell_type": "code",
   "execution_count": 11,
   "id": "131e7764-fac2-4f45-a06b-17bc11b43be9",
   "metadata": {},
   "outputs": [],
   "source": [
    "import torch\n",
    "import sys\n",
    "import os\n",
    "from datasets import load_dataset\n",
    "from transformers import pipeline"
   ]
  },
  {
   "cell_type": "code",
   "execution_count": 7,
   "id": "f8bffb0f-d0e4-4962-9b11-81f2d440527c",
   "metadata": {},
   "outputs": [],
   "source": [
    "# Set HF token as env variable\n"
   ]
  },
  {
   "cell_type": "code",
   "execution_count": 8,
   "id": "a749d0b2-f689-4ad2-9cd3-5df08c198152",
   "metadata": {},
   "outputs": [],
   "source": [
    "# Prepare token\n",
    "torch.cuda.empty_cache()\n",
    "hf_token = os.environ.get('HF_TOKEN')"
   ]
  },
  {
   "cell_type": "code",
   "execution_count": 65,
   "id": "568fa547-9692-4f03-a956-6787684c04da",
   "metadata": {},
   "outputs": [],
   "source": [
    "# Prepare instruction\n",
    "python_syntax_fixer_instruction = \"You are an expert Python code fixer. \\\n",
    "             You will receive input in the following format: \\n\\n \\\n",
    "             [Fix] | <error code>\\n \\\n",
    "             <python code snippet>\\n\\n \\\n",
    "             Your task is to ONLY provide the corrected Python code with NO explanations or additional text. \\n \\\n",
    "             Do not include the original error code in your response and do not format the code. \\\n",
    "             Treat the code snippet as regular text. Do NOT put any prefix, only plain text as code only.\""
   ]
  },
  {
   "cell_type": "code",
   "execution_count": 66,
   "id": "6adc21a0-78b1-494c-b108-0af37cb0d9aa",
   "metadata": {},
   "outputs": [
    {
     "data": {
      "application/vnd.jupyter.widget-view+json": {
       "model_id": "a957be4c5d3a41a8843d27d4f36fddb7",
       "version_major": 2,
       "version_minor": 0
      },
      "text/plain": [
       "Loading checkpoint shards:   0%|          | 0/2 [00:00<?, ?it/s]"
      ]
     },
     "metadata": {},
     "output_type": "display_data"
    },
    {
     "name": "stderr",
     "output_type": "stream",
     "text": [
      "Some parameters are on the meta device because they were offloaded to the cpu.\n"
     ]
    }
   ],
   "source": [
    "# Load the model and instruction\n",
    "instruct_model_id = \"meta-llama/Llama-3.2-3B-Instruct\"\n",
    "\n",
    "model_id = \"meta-llama/Llama-3.2-3B-Instruct\"\n",
    "pipe = pipeline(\n",
    "    \"text-generation\",\n",
    "    model=model_id,\n",
    "    token=hf_token,\n",
    "    torch_dtype=torch.bfloat16,\n",
    "    device_map=\"auto\",\n",
    ")"
   ]
  },
  {
   "cell_type": "markdown",
   "id": "df2d58c2-d3a6-465c-b6cc-40ee4b75362a",
   "metadata": {},
   "source": [
    "## Process fixing code"
   ]
  },
  {
   "cell_type": "code",
   "execution_count": 67,
   "id": "6aedcc74-821c-4b64-bf09-5c02dc62d323",
   "metadata": {},
   "outputs": [],
   "source": [
    "def fix_code(code_snippet):\n",
    "    code_error = validate_code(code_snippet)\n",
    "    messages = [\n",
    "        { \"role\": \"system\", \"content\": python_syntax_fixer_instruction }\n",
    "    ]\n",
    "    messages.append({\"role\": \"user\", \"content\": f\"[Fix] | {code_error}\\n{code_snippet}\"})\n",
    "    \n",
    "    outputs = pipe(messages, max_new_tokens=512, pad_token_id=pipe.tokenizer.eos_token_id)\n",
    "    \n",
    "    return outputs[0][\"generated_text\"][-1][\"content\"]"
   ]
  },
  {
   "cell_type": "code",
   "execution_count": 75,
   "id": "1f249adb-e32e-466c-8d1f-4511e65b17a3",
   "metadata": {},
   "outputs": [],
   "source": [
    "from tqdm.notebook import tqdm\n",
    "\n",
    "FIXING_ATTEMP_COUNT = 10\n",
    "\n",
    "def perform_fixing_code(dataset):\n",
    "    results = []\n",
    "    for item in tqdm(dataset, desc=\"Fixing code\"):\n",
    "        code_snippet = item['src']['string_format']\n",
    "        \n",
    "        fixing_attempts = []\n",
    "        # Sub-progress bar for fixing attempts\n",
    "        with tqdm(total=FIXING_ATTEMP_COUNT, desc=\"Fixing attempts\", leave=False) as pbar:  \n",
    "            for _ in range(FIXING_ATTEMP_COUNT):\n",
    "                fixed_code = fix_code(code_snippet)\n",
    "                remain_error = validate_code(fixed_code)\n",
    "                fixing_attempts.append({\n",
    "                    \"string_format\": fixed_code,\n",
    "                    \"err_obj\": 0 if remain_error is None \\\n",
    "                                else { \"msg\": item[\"orig_err_obj\"][\"msg\"], \"msg_detailed\": remain_error }\n",
    "                })\n",
    "                pbar.update(1) # update progress bar\n",
    "\n",
    "                # If the code is already fixed, no need to retry\n",
    "                if remain_error is None:\n",
    "                    pbar.update(10)\n",
    "                    break\n",
    "            \n",
    "            pbar.close() # close the progress bar after the loop\n",
    "            # Update the return result\n",
    "            results.append(replace_key_in_json(item, \"pred\", fixing_attempts))\n",
    "    return results"
   ]
  },
  {
   "cell_type": "code",
   "execution_count": null,
   "id": "914f95bd-abbb-48cf-a152-1fd85d838ff8",
   "metadata": {},
   "outputs": [
    {
     "data": {
      "application/vnd.jupyter.widget-view+json": {
       "model_id": "14f9006e12d64630ba3c3628c79a4132",
       "version_major": 2,
       "version_minor": 0
      },
      "text/plain": [
       "Fixing code:   0%|          | 0/7528 [00:00<?, ?it/s]"
      ]
     },
     "metadata": {},
     "output_type": "display_data"
    },
    {
     "data": {
      "application/vnd.jupyter.widget-view+json": {
       "model_id": "",
       "version_major": 2,
       "version_minor": 0
      },
      "text/plain": [
       "Fixing attempts:   0%|          | 0/10 [00:00<?, ?it/s]"
      ]
     },
     "metadata": {},
     "output_type": "display_data"
    },
    {
     "data": {
      "application/vnd.jupyter.widget-view+json": {
       "model_id": "7b427395d00844a693286273780ab04f",
       "version_major": 2,
       "version_minor": 0
      },
      "text/plain": [
       "Fixing attempts:   0%|          | 0/10 [00:00<?, ?it/s]"
      ]
     },
     "metadata": {},
     "output_type": "display_data"
    },
    {
     "data": {
      "application/vnd.jupyter.widget-view+json": {
       "model_id": "",
       "version_major": 2,
       "version_minor": 0
      },
      "text/plain": [
       "Fixing attempts:   0%|          | 0/10 [00:00<?, ?it/s]"
      ]
     },
     "metadata": {},
     "output_type": "display_data"
    },
    {
     "data": {
      "application/vnd.jupyter.widget-view+json": {
       "model_id": "",
       "version_major": 2,
       "version_minor": 0
      },
      "text/plain": [
       "Fixing attempts:   0%|          | 0/10 [00:00<?, ?it/s]"
      ]
     },
     "metadata": {},
     "output_type": "display_data"
    },
    {
     "data": {
      "application/vnd.jupyter.widget-view+json": {
       "model_id": "",
       "version_major": 2,
       "version_minor": 0
      },
      "text/plain": [
       "Fixing attempts:   0%|          | 0/10 [00:00<?, ?it/s]"
      ]
     },
     "metadata": {},
     "output_type": "display_data"
    },
    {
     "data": {
      "application/vnd.jupyter.widget-view+json": {
       "model_id": "",
       "version_major": 2,
       "version_minor": 0
      },
      "text/plain": [
       "Fixing attempts:   0%|          | 0/10 [00:00<?, ?it/s]"
      ]
     },
     "metadata": {},
     "output_type": "display_data"
    },
    {
     "data": {
      "application/vnd.jupyter.widget-view+json": {
       "model_id": "",
       "version_major": 2,
       "version_minor": 0
      },
      "text/plain": [
       "Fixing attempts:   0%|          | 0/10 [00:00<?, ?it/s]"
      ]
     },
     "metadata": {},
     "output_type": "display_data"
    },
    {
     "data": {
      "application/vnd.jupyter.widget-view+json": {
       "model_id": "",
       "version_major": 2,
       "version_minor": 0
      },
      "text/plain": [
       "Fixing attempts:   0%|          | 0/10 [00:00<?, ?it/s]"
      ]
     },
     "metadata": {},
     "output_type": "display_data"
    },
    {
     "data": {
      "application/vnd.jupyter.widget-view+json": {
       "model_id": "",
       "version_major": 2,
       "version_minor": 0
      },
      "text/plain": [
       "Fixing attempts:   0%|          | 0/10 [00:00<?, ?it/s]"
      ]
     },
     "metadata": {},
     "output_type": "display_data"
    },
    {
     "data": {
      "application/vnd.jupyter.widget-view+json": {
       "model_id": "",
       "version_major": 2,
       "version_minor": 0
      },
      "text/plain": [
       "Fixing attempts:   0%|          | 0/10 [00:00<?, ?it/s]"
      ]
     },
     "metadata": {},
     "output_type": "display_data"
    },
    {
     "data": {
      "application/vnd.jupyter.widget-view+json": {
       "model_id": "",
       "version_major": 2,
       "version_minor": 0
      },
      "text/plain": [
       "Fixing attempts:   0%|          | 0/10 [00:00<?, ?it/s]"
      ]
     },
     "metadata": {},
     "output_type": "display_data"
    },
    {
     "data": {
      "application/vnd.jupyter.widget-view+json": {
       "model_id": "",
       "version_major": 2,
       "version_minor": 0
      },
      "text/plain": [
       "Fixing attempts:   0%|          | 0/10 [00:00<?, ?it/s]"
      ]
     },
     "metadata": {},
     "output_type": "display_data"
    },
    {
     "data": {
      "application/vnd.jupyter.widget-view+json": {
       "model_id": "",
       "version_major": 2,
       "version_minor": 0
      },
      "text/plain": [
       "Fixing attempts:   0%|          | 0/10 [00:00<?, ?it/s]"
      ]
     },
     "metadata": {},
     "output_type": "display_data"
    },
    {
     "data": {
      "application/vnd.jupyter.widget-view+json": {
       "model_id": "",
       "version_major": 2,
       "version_minor": 0
      },
      "text/plain": [
       "Fixing attempts:   0%|          | 0/10 [00:00<?, ?it/s]"
      ]
     },
     "metadata": {},
     "output_type": "display_data"
    },
    {
     "data": {
      "application/vnd.jupyter.widget-view+json": {
       "model_id": "",
       "version_major": 2,
       "version_minor": 0
      },
      "text/plain": [
       "Fixing attempts:   0%|          | 0/10 [00:00<?, ?it/s]"
      ]
     },
     "metadata": {},
     "output_type": "display_data"
    },
    {
     "data": {
      "application/vnd.jupyter.widget-view+json": {
       "model_id": "",
       "version_major": 2,
       "version_minor": 0
      },
      "text/plain": [
       "Fixing attempts:   0%|          | 0/10 [00:00<?, ?it/s]"
      ]
     },
     "metadata": {},
     "output_type": "display_data"
    },
    {
     "data": {
      "application/vnd.jupyter.widget-view+json": {
       "model_id": "",
       "version_major": 2,
       "version_minor": 0
      },
      "text/plain": [
       "Fixing attempts:   0%|          | 0/10 [00:00<?, ?it/s]"
      ]
     },
     "metadata": {},
     "output_type": "display_data"
    },
    {
     "data": {
      "application/vnd.jupyter.widget-view+json": {
       "model_id": "",
       "version_major": 2,
       "version_minor": 0
      },
      "text/plain": [
       "Fixing attempts:   0%|          | 0/10 [00:00<?, ?it/s]"
      ]
     },
     "metadata": {},
     "output_type": "display_data"
    },
    {
     "data": {
      "application/vnd.jupyter.widget-view+json": {
       "model_id": "",
       "version_major": 2,
       "version_minor": 0
      },
      "text/plain": [
       "Fixing attempts:   0%|          | 0/10 [00:00<?, ?it/s]"
      ]
     },
     "metadata": {},
     "output_type": "display_data"
    },
    {
     "data": {
      "application/vnd.jupyter.widget-view+json": {
       "model_id": "",
       "version_major": 2,
       "version_minor": 0
      },
      "text/plain": [
       "Fixing attempts:   0%|          | 0/10 [00:00<?, ?it/s]"
      ]
     },
     "metadata": {},
     "output_type": "display_data"
    },
    {
     "data": {
      "application/vnd.jupyter.widget-view+json": {
       "model_id": "",
       "version_major": 2,
       "version_minor": 0
      },
      "text/plain": [
       "Fixing attempts:   0%|          | 0/10 [00:00<?, ?it/s]"
      ]
     },
     "metadata": {},
     "output_type": "display_data"
    },
    {
     "data": {
      "application/vnd.jupyter.widget-view+json": {
       "model_id": "",
       "version_major": 2,
       "version_minor": 0
      },
      "text/plain": [
       "Fixing attempts:   0%|          | 0/10 [00:00<?, ?it/s]"
      ]
     },
     "metadata": {},
     "output_type": "display_data"
    },
    {
     "data": {
      "application/vnd.jupyter.widget-view+json": {
       "model_id": "",
       "version_major": 2,
       "version_minor": 0
      },
      "text/plain": [
       "Fixing attempts:   0%|          | 0/10 [00:00<?, ?it/s]"
      ]
     },
     "metadata": {},
     "output_type": "display_data"
    },
    {
     "data": {
      "application/vnd.jupyter.widget-view+json": {
       "model_id": "",
       "version_major": 2,
       "version_minor": 0
      },
      "text/plain": [
       "Fixing attempts:   0%|          | 0/10 [00:00<?, ?it/s]"
      ]
     },
     "metadata": {},
     "output_type": "display_data"
    },
    {
     "data": {
      "application/vnd.jupyter.widget-view+json": {
       "model_id": "",
       "version_major": 2,
       "version_minor": 0
      },
      "text/plain": [
       "Fixing attempts:   0%|          | 0/10 [00:00<?, ?it/s]"
      ]
     },
     "metadata": {},
     "output_type": "display_data"
    },
    {
     "data": {
      "application/vnd.jupyter.widget-view+json": {
       "model_id": "",
       "version_major": 2,
       "version_minor": 0
      },
      "text/plain": [
       "Fixing attempts:   0%|          | 0/10 [00:00<?, ?it/s]"
      ]
     },
     "metadata": {},
     "output_type": "display_data"
    },
    {
     "data": {
      "application/vnd.jupyter.widget-view+json": {
       "model_id": "",
       "version_major": 2,
       "version_minor": 0
      },
      "text/plain": [
       "Fixing attempts:   0%|          | 0/10 [00:00<?, ?it/s]"
      ]
     },
     "metadata": {},
     "output_type": "display_data"
    },
    {
     "data": {
      "application/vnd.jupyter.widget-view+json": {
       "model_id": "",
       "version_major": 2,
       "version_minor": 0
      },
      "text/plain": [
       "Fixing attempts:   0%|          | 0/10 [00:00<?, ?it/s]"
      ]
     },
     "metadata": {},
     "output_type": "display_data"
    },
    {
     "data": {
      "application/vnd.jupyter.widget-view+json": {
       "model_id": "",
       "version_major": 2,
       "version_minor": 0
      },
      "text/plain": [
       "Fixing attempts:   0%|          | 0/10 [00:00<?, ?it/s]"
      ]
     },
     "metadata": {},
     "output_type": "display_data"
    },
    {
     "data": {
      "application/vnd.jupyter.widget-view+json": {
       "model_id": "",
       "version_major": 2,
       "version_minor": 0
      },
      "text/plain": [
       "Fixing attempts:   0%|          | 0/10 [00:00<?, ?it/s]"
      ]
     },
     "metadata": {},
     "output_type": "display_data"
    },
    {
     "data": {
      "application/vnd.jupyter.widget-view+json": {
       "model_id": "",
       "version_major": 2,
       "version_minor": 0
      },
      "text/plain": [
       "Fixing attempts:   0%|          | 0/10 [00:00<?, ?it/s]"
      ]
     },
     "metadata": {},
     "output_type": "display_data"
    },
    {
     "data": {
      "application/vnd.jupyter.widget-view+json": {
       "model_id": "",
       "version_major": 2,
       "version_minor": 0
      },
      "text/plain": [
       "Fixing attempts:   0%|          | 0/10 [00:00<?, ?it/s]"
      ]
     },
     "metadata": {},
     "output_type": "display_data"
    },
    {
     "data": {
      "application/vnd.jupyter.widget-view+json": {
       "model_id": "",
       "version_major": 2,
       "version_minor": 0
      },
      "text/plain": [
       "Fixing attempts:   0%|          | 0/10 [00:00<?, ?it/s]"
      ]
     },
     "metadata": {},
     "output_type": "display_data"
    },
    {
     "data": {
      "application/vnd.jupyter.widget-view+json": {
       "model_id": "",
       "version_major": 2,
       "version_minor": 0
      },
      "text/plain": [
       "Fixing attempts:   0%|          | 0/10 [00:00<?, ?it/s]"
      ]
     },
     "metadata": {},
     "output_type": "display_data"
    },
    {
     "data": {
      "application/vnd.jupyter.widget-view+json": {
       "model_id": "",
       "version_major": 2,
       "version_minor": 0
      },
      "text/plain": [
       "Fixing attempts:   0%|          | 0/10 [00:00<?, ?it/s]"
      ]
     },
     "metadata": {},
     "output_type": "display_data"
    },
    {
     "data": {
      "application/vnd.jupyter.widget-view+json": {
       "model_id": "",
       "version_major": 2,
       "version_minor": 0
      },
      "text/plain": [
       "Fixing attempts:   0%|          | 0/10 [00:00<?, ?it/s]"
      ]
     },
     "metadata": {},
     "output_type": "display_data"
    },
    {
     "data": {
      "application/vnd.jupyter.widget-view+json": {
       "model_id": "",
       "version_major": 2,
       "version_minor": 0
      },
      "text/plain": [
       "Fixing attempts:   0%|          | 0/10 [00:00<?, ?it/s]"
      ]
     },
     "metadata": {},
     "output_type": "display_data"
    },
    {
     "data": {
      "application/vnd.jupyter.widget-view+json": {
       "model_id": "",
       "version_major": 2,
       "version_minor": 0
      },
      "text/plain": [
       "Fixing attempts:   0%|          | 0/10 [00:00<?, ?it/s]"
      ]
     },
     "metadata": {},
     "output_type": "display_data"
    },
    {
     "data": {
      "application/vnd.jupyter.widget-view+json": {
       "model_id": "",
       "version_major": 2,
       "version_minor": 0
      },
      "text/plain": [
       "Fixing attempts:   0%|          | 0/10 [00:00<?, ?it/s]"
      ]
     },
     "metadata": {},
     "output_type": "display_data"
    },
    {
     "data": {
      "application/vnd.jupyter.widget-view+json": {
       "model_id": "",
       "version_major": 2,
       "version_minor": 0
      },
      "text/plain": [
       "Fixing attempts:   0%|          | 0/10 [00:00<?, ?it/s]"
      ]
     },
     "metadata": {},
     "output_type": "display_data"
    },
    {
     "data": {
      "application/vnd.jupyter.widget-view+json": {
       "model_id": "",
       "version_major": 2,
       "version_minor": 0
      },
      "text/plain": [
       "Fixing attempts:   0%|          | 0/10 [00:00<?, ?it/s]"
      ]
     },
     "metadata": {},
     "output_type": "display_data"
    },
    {
     "data": {
      "application/vnd.jupyter.widget-view+json": {
       "model_id": "",
       "version_major": 2,
       "version_minor": 0
      },
      "text/plain": [
       "Fixing attempts:   0%|          | 0/10 [00:00<?, ?it/s]"
      ]
     },
     "metadata": {},
     "output_type": "display_data"
    },
    {
     "data": {
      "application/vnd.jupyter.widget-view+json": {
       "model_id": "",
       "version_major": 2,
       "version_minor": 0
      },
      "text/plain": [
       "Fixing attempts:   0%|          | 0/10 [00:00<?, ?it/s]"
      ]
     },
     "metadata": {},
     "output_type": "display_data"
    },
    {
     "data": {
      "application/vnd.jupyter.widget-view+json": {
       "model_id": "",
       "version_major": 2,
       "version_minor": 0
      },
      "text/plain": [
       "Fixing attempts:   0%|          | 0/10 [00:00<?, ?it/s]"
      ]
     },
     "metadata": {},
     "output_type": "display_data"
    },
    {
     "data": {
      "application/vnd.jupyter.widget-view+json": {
       "model_id": "",
       "version_major": 2,
       "version_minor": 0
      },
      "text/plain": [
       "Fixing attempts:   0%|          | 0/10 [00:00<?, ?it/s]"
      ]
     },
     "metadata": {},
     "output_type": "display_data"
    },
    {
     "data": {
      "application/vnd.jupyter.widget-view+json": {
       "model_id": "",
       "version_major": 2,
       "version_minor": 0
      },
      "text/plain": [
       "Fixing attempts:   0%|          | 0/10 [00:00<?, ?it/s]"
      ]
     },
     "metadata": {},
     "output_type": "display_data"
    },
    {
     "data": {
      "application/vnd.jupyter.widget-view+json": {
       "model_id": "",
       "version_major": 2,
       "version_minor": 0
      },
      "text/plain": [
       "Fixing attempts:   0%|          | 0/10 [00:00<?, ?it/s]"
      ]
     },
     "metadata": {},
     "output_type": "display_data"
    },
    {
     "data": {
      "application/vnd.jupyter.widget-view+json": {
       "model_id": "",
       "version_major": 2,
       "version_minor": 0
      },
      "text/plain": [
       "Fixing attempts:   0%|          | 0/10 [00:00<?, ?it/s]"
      ]
     },
     "metadata": {},
     "output_type": "display_data"
    },
    {
     "data": {
      "application/vnd.jupyter.widget-view+json": {
       "model_id": "",
       "version_major": 2,
       "version_minor": 0
      },
      "text/plain": [
       "Fixing attempts:   0%|          | 0/10 [00:00<?, ?it/s]"
      ]
     },
     "metadata": {},
     "output_type": "display_data"
    },
    {
     "data": {
      "application/vnd.jupyter.widget-view+json": {
       "model_id": "981556e932b64c75a98b5df507c1f185",
       "version_major": 2,
       "version_minor": 0
      },
      "text/plain": [
       "Fixing attempts:   0%|          | 0/10 [00:00<?, ?it/s]"
      ]
     },
     "metadata": {},
     "output_type": "display_data"
    },
    {
     "data": {
      "application/vnd.jupyter.widget-view+json": {
       "model_id": "4b28de144acd4a809642e211cb7473f7",
       "version_major": 2,
       "version_minor": 0
      },
      "text/plain": [
       "Fixing attempts:   0%|          | 0/10 [00:00<?, ?it/s]"
      ]
     },
     "metadata": {},
     "output_type": "display_data"
    },
    {
     "data": {
      "application/vnd.jupyter.widget-view+json": {
       "model_id": "723519cd93cd4990b9687ada5dabf2db",
       "version_major": 2,
       "version_minor": 0
      },
      "text/plain": [
       "Fixing attempts:   0%|          | 0/10 [00:00<?, ?it/s]"
      ]
     },
     "metadata": {},
     "output_type": "display_data"
    },
    {
     "data": {
      "application/vnd.jupyter.widget-view+json": {
       "model_id": "04696f455a46450b858f23062c402ec7",
       "version_major": 2,
       "version_minor": 0
      },
      "text/plain": [
       "Fixing attempts:   0%|          | 0/10 [00:00<?, ?it/s]"
      ]
     },
     "metadata": {},
     "output_type": "display_data"
    },
    {
     "data": {
      "application/vnd.jupyter.widget-view+json": {
       "model_id": "7df00cedd352415d8da0d1be22c226bf",
       "version_major": 2,
       "version_minor": 0
      },
      "text/plain": [
       "Fixing attempts:   0%|          | 0/10 [00:00<?, ?it/s]"
      ]
     },
     "metadata": {},
     "output_type": "display_data"
    },
    {
     "data": {
      "application/vnd.jupyter.widget-view+json": {
       "model_id": "a0a1ef3146994b2c8f9519df0ccb2d0d",
       "version_major": 2,
       "version_minor": 0
      },
      "text/plain": [
       "Fixing attempts:   0%|          | 0/10 [00:00<?, ?it/s]"
      ]
     },
     "metadata": {},
     "output_type": "display_data"
    },
    {
     "data": {
      "application/vnd.jupyter.widget-view+json": {
       "model_id": "f77c4c739b524852a501e4493167804f",
       "version_major": 2,
       "version_minor": 0
      },
      "text/plain": [
       "Fixing attempts:   0%|          | 0/10 [00:00<?, ?it/s]"
      ]
     },
     "metadata": {},
     "output_type": "display_data"
    },
    {
     "data": {
      "application/vnd.jupyter.widget-view+json": {
       "model_id": "15664ce89e53428fb5c4adc52f886f90",
       "version_major": 2,
       "version_minor": 0
      },
      "text/plain": [
       "Fixing attempts:   0%|          | 0/10 [00:00<?, ?it/s]"
      ]
     },
     "metadata": {},
     "output_type": "display_data"
    },
    {
     "data": {
      "application/vnd.jupyter.widget-view+json": {
       "model_id": "afdbba4a603244378b7825eb8685c0fc",
       "version_major": 2,
       "version_minor": 0
      },
      "text/plain": [
       "Fixing attempts:   0%|          | 0/10 [00:00<?, ?it/s]"
      ]
     },
     "metadata": {},
     "output_type": "display_data"
    },
    {
     "data": {
      "application/vnd.jupyter.widget-view+json": {
       "model_id": "4784ce015b7c4835b066ccc37877284a",
       "version_major": 2,
       "version_minor": 0
      },
      "text/plain": [
       "Fixing attempts:   0%|          | 0/10 [00:00<?, ?it/s]"
      ]
     },
     "metadata": {},
     "output_type": "display_data"
    },
    {
     "data": {
      "application/vnd.jupyter.widget-view+json": {
       "model_id": "f4c0f43aefb042ac9daeffdcc1d1cfe9",
       "version_major": 2,
       "version_minor": 0
      },
      "text/plain": [
       "Fixing attempts:   0%|          | 0/10 [00:00<?, ?it/s]"
      ]
     },
     "metadata": {},
     "output_type": "display_data"
    },
    {
     "data": {
      "application/vnd.jupyter.widget-view+json": {
       "model_id": "647c3a1b86404f58aaf0402fa8851ffd",
       "version_major": 2,
       "version_minor": 0
      },
      "text/plain": [
       "Fixing attempts:   0%|          | 0/10 [00:00<?, ?it/s]"
      ]
     },
     "metadata": {},
     "output_type": "display_data"
    },
    {
     "data": {
      "application/vnd.jupyter.widget-view+json": {
       "model_id": "58f10a55afd346dbbbab9397c3dd4be2",
       "version_major": 2,
       "version_minor": 0
      },
      "text/plain": [
       "Fixing attempts:   0%|          | 0/10 [00:00<?, ?it/s]"
      ]
     },
     "metadata": {},
     "output_type": "display_data"
    },
    {
     "data": {
      "application/vnd.jupyter.widget-view+json": {
       "model_id": "0734de80f9724f03b267fd41951276d9",
       "version_major": 2,
       "version_minor": 0
      },
      "text/plain": [
       "Fixing attempts:   0%|          | 0/10 [00:00<?, ?it/s]"
      ]
     },
     "metadata": {},
     "output_type": "display_data"
    },
    {
     "data": {
      "application/vnd.jupyter.widget-view+json": {
       "model_id": "eac9128d02644abfa7df1e9510be0e45",
       "version_major": 2,
       "version_minor": 0
      },
      "text/plain": [
       "Fixing attempts:   0%|          | 0/10 [00:00<?, ?it/s]"
      ]
     },
     "metadata": {},
     "output_type": "display_data"
    },
    {
     "data": {
      "application/vnd.jupyter.widget-view+json": {
       "model_id": "5f66559b692d4618a4758c51b76722c0",
       "version_major": 2,
       "version_minor": 0
      },
      "text/plain": [
       "Fixing attempts:   0%|          | 0/10 [00:00<?, ?it/s]"
      ]
     },
     "metadata": {},
     "output_type": "display_data"
    },
    {
     "data": {
      "application/vnd.jupyter.widget-view+json": {
       "model_id": "d1e48ff468c44a9bbeb5291612ca7a5f",
       "version_major": 2,
       "version_minor": 0
      },
      "text/plain": [
       "Fixing attempts:   0%|          | 0/10 [00:00<?, ?it/s]"
      ]
     },
     "metadata": {},
     "output_type": "display_data"
    },
    {
     "data": {
      "application/vnd.jupyter.widget-view+json": {
       "model_id": "699a8fadfe00407fb4c74911e3096e2c",
       "version_major": 2,
       "version_minor": 0
      },
      "text/plain": [
       "Fixing attempts:   0%|          | 0/10 [00:00<?, ?it/s]"
      ]
     },
     "metadata": {},
     "output_type": "display_data"
    },
    {
     "data": {
      "application/vnd.jupyter.widget-view+json": {
       "model_id": "1c560d602ebe436585af7c8f3bde9328",
       "version_major": 2,
       "version_minor": 0
      },
      "text/plain": [
       "Fixing attempts:   0%|          | 0/10 [00:00<?, ?it/s]"
      ]
     },
     "metadata": {},
     "output_type": "display_data"
    },
    {
     "data": {
      "application/vnd.jupyter.widget-view+json": {
       "model_id": "6e9de863233b42d495d5a6bc452a168b",
       "version_major": 2,
       "version_minor": 0
      },
      "text/plain": [
       "Fixing attempts:   0%|          | 0/10 [00:00<?, ?it/s]"
      ]
     },
     "metadata": {},
     "output_type": "display_data"
    },
    {
     "data": {
      "application/vnd.jupyter.widget-view+json": {
       "model_id": "37ecaa2b24d848b0a23057024a2dc8a1",
       "version_major": 2,
       "version_minor": 0
      },
      "text/plain": [
       "Fixing attempts:   0%|          | 0/10 [00:00<?, ?it/s]"
      ]
     },
     "metadata": {},
     "output_type": "display_data"
    },
    {
     "data": {
      "application/vnd.jupyter.widget-view+json": {
       "model_id": "160d3324883f4655871d904d3384b0a4",
       "version_major": 2,
       "version_minor": 0
      },
      "text/plain": [
       "Fixing attempts:   0%|          | 0/10 [00:00<?, ?it/s]"
      ]
     },
     "metadata": {},
     "output_type": "display_data"
    },
    {
     "data": {
      "application/vnd.jupyter.widget-view+json": {
       "model_id": "b49da4f0b5bc465f921f0d534771ba14",
       "version_major": 2,
       "version_minor": 0
      },
      "text/plain": [
       "Fixing attempts:   0%|          | 0/10 [00:00<?, ?it/s]"
      ]
     },
     "metadata": {},
     "output_type": "display_data"
    },
    {
     "data": {
      "application/vnd.jupyter.widget-view+json": {
       "model_id": "5f451ef9ed0f4bafa7e25419b12d871d",
       "version_major": 2,
       "version_minor": 0
      },
      "text/plain": [
       "Fixing attempts:   0%|          | 0/10 [00:00<?, ?it/s]"
      ]
     },
     "metadata": {},
     "output_type": "display_data"
    },
    {
     "data": {
      "application/vnd.jupyter.widget-view+json": {
       "model_id": "346ab85a12254b3c9f27f6001dd0da08",
       "version_major": 2,
       "version_minor": 0
      },
      "text/plain": [
       "Fixing attempts:   0%|          | 0/10 [00:00<?, ?it/s]"
      ]
     },
     "metadata": {},
     "output_type": "display_data"
    },
    {
     "data": {
      "application/vnd.jupyter.widget-view+json": {
       "model_id": "25fd79f5973b42c885413c5adfa43bc4",
       "version_major": 2,
       "version_minor": 0
      },
      "text/plain": [
       "Fixing attempts:   0%|          | 0/10 [00:00<?, ?it/s]"
      ]
     },
     "metadata": {},
     "output_type": "display_data"
    },
    {
     "data": {
      "application/vnd.jupyter.widget-view+json": {
       "model_id": "f253fa500cf945f2b6ac68ae376f22de",
       "version_major": 2,
       "version_minor": 0
      },
      "text/plain": [
       "Fixing attempts:   0%|          | 0/10 [00:00<?, ?it/s]"
      ]
     },
     "metadata": {},
     "output_type": "display_data"
    },
    {
     "data": {
      "application/vnd.jupyter.widget-view+json": {
       "model_id": "6fc24a1221154dd58d87d17af9b48a94",
       "version_major": 2,
       "version_minor": 0
      },
      "text/plain": [
       "Fixing attempts:   0%|          | 0/10 [00:00<?, ?it/s]"
      ]
     },
     "metadata": {},
     "output_type": "display_data"
    },
    {
     "data": {
      "application/vnd.jupyter.widget-view+json": {
       "model_id": "31a2fe2d05dc443c8d34fe40f191bb89",
       "version_major": 2,
       "version_minor": 0
      },
      "text/plain": [
       "Fixing attempts:   0%|          | 0/10 [00:00<?, ?it/s]"
      ]
     },
     "metadata": {},
     "output_type": "display_data"
    },
    {
     "data": {
      "application/vnd.jupyter.widget-view+json": {
       "model_id": "8484d6590561424bb3cfb51df5c4f3de",
       "version_major": 2,
       "version_minor": 0
      },
      "text/plain": [
       "Fixing attempts:   0%|          | 0/10 [00:00<?, ?it/s]"
      ]
     },
     "metadata": {},
     "output_type": "display_data"
    },
    {
     "data": {
      "application/vnd.jupyter.widget-view+json": {
       "model_id": "8268d978d4d84409a1d28786cfeb1e4a",
       "version_major": 2,
       "version_minor": 0
      },
      "text/plain": [
       "Fixing attempts:   0%|          | 0/10 [00:00<?, ?it/s]"
      ]
     },
     "metadata": {},
     "output_type": "display_data"
    },
    {
     "data": {
      "application/vnd.jupyter.widget-view+json": {
       "model_id": "7a26e978829646db8f1974954d4b20ad",
       "version_major": 2,
       "version_minor": 0
      },
      "text/plain": [
       "Fixing attempts:   0%|          | 0/10 [00:00<?, ?it/s]"
      ]
     },
     "metadata": {},
     "output_type": "display_data"
    },
    {
     "data": {
      "application/vnd.jupyter.widget-view+json": {
       "model_id": "6d9958b0d0354c8b9a3be79e2c469ebf",
       "version_major": 2,
       "version_minor": 0
      },
      "text/plain": [
       "Fixing attempts:   0%|          | 0/10 [00:00<?, ?it/s]"
      ]
     },
     "metadata": {},
     "output_type": "display_data"
    },
    {
     "data": {
      "application/vnd.jupyter.widget-view+json": {
       "model_id": "aef229c8d5bc4a94bbc9ea9b6b86159d",
       "version_major": 2,
       "version_minor": 0
      },
      "text/plain": [
       "Fixing attempts:   0%|          | 0/10 [00:00<?, ?it/s]"
      ]
     },
     "metadata": {},
     "output_type": "display_data"
    },
    {
     "data": {
      "application/vnd.jupyter.widget-view+json": {
       "model_id": "3156e8da8b274c9fa8e21b826a3bf0d2",
       "version_major": 2,
       "version_minor": 0
      },
      "text/plain": [
       "Fixing attempts:   0%|          | 0/10 [00:00<?, ?it/s]"
      ]
     },
     "metadata": {},
     "output_type": "display_data"
    },
    {
     "data": {
      "application/vnd.jupyter.widget-view+json": {
       "model_id": "8e4814447be64f1b9339f19ac9c55d9d",
       "version_major": 2,
       "version_minor": 0
      },
      "text/plain": [
       "Fixing attempts:   0%|          | 0/10 [00:00<?, ?it/s]"
      ]
     },
     "metadata": {},
     "output_type": "display_data"
    },
    {
     "data": {
      "application/vnd.jupyter.widget-view+json": {
       "model_id": "9f5a6e161834415197923e1dfe47d0e5",
       "version_major": 2,
       "version_minor": 0
      },
      "text/plain": [
       "Fixing attempts:   0%|          | 0/10 [00:00<?, ?it/s]"
      ]
     },
     "metadata": {},
     "output_type": "display_data"
    },
    {
     "data": {
      "application/vnd.jupyter.widget-view+json": {
       "model_id": "09c21e039531489ebe2f68818b04f4b1",
       "version_major": 2,
       "version_minor": 0
      },
      "text/plain": [
       "Fixing attempts:   0%|          | 0/10 [00:00<?, ?it/s]"
      ]
     },
     "metadata": {},
     "output_type": "display_data"
    },
    {
     "data": {
      "application/vnd.jupyter.widget-view+json": {
       "model_id": "9cfb77de32db4a2ba430371e8d680aff",
       "version_major": 2,
       "version_minor": 0
      },
      "text/plain": [
       "Fixing attempts:   0%|          | 0/10 [00:00<?, ?it/s]"
      ]
     },
     "metadata": {},
     "output_type": "display_data"
    },
    {
     "data": {
      "application/vnd.jupyter.widget-view+json": {
       "model_id": "cd80b962b1a04dc59df9ada4bc67efa5",
       "version_major": 2,
       "version_minor": 0
      },
      "text/plain": [
       "Fixing attempts:   0%|          | 0/10 [00:00<?, ?it/s]"
      ]
     },
     "metadata": {},
     "output_type": "display_data"
    },
    {
     "data": {
      "application/vnd.jupyter.widget-view+json": {
       "model_id": "36fe9dde85ec462cbae8e7c4b09ba1fc",
       "version_major": 2,
       "version_minor": 0
      },
      "text/plain": [
       "Fixing attempts:   0%|          | 0/10 [00:00<?, ?it/s]"
      ]
     },
     "metadata": {},
     "output_type": "display_data"
    },
    {
     "data": {
      "application/vnd.jupyter.widget-view+json": {
       "model_id": "335da9cf334445e18c09db2b40cb307d",
       "version_major": 2,
       "version_minor": 0
      },
      "text/plain": [
       "Fixing attempts:   0%|          | 0/10 [00:00<?, ?it/s]"
      ]
     },
     "metadata": {},
     "output_type": "display_data"
    },
    {
     "data": {
      "application/vnd.jupyter.widget-view+json": {
       "model_id": "8dff36078bc5475499737e6071bdccb2",
       "version_major": 2,
       "version_minor": 0
      },
      "text/plain": [
       "Fixing attempts:   0%|          | 0/10 [00:00<?, ?it/s]"
      ]
     },
     "metadata": {},
     "output_type": "display_data"
    },
    {
     "data": {
      "application/vnd.jupyter.widget-view+json": {
       "model_id": "70c01b0a0aef47c8b4029af3a654c348",
       "version_major": 2,
       "version_minor": 0
      },
      "text/plain": [
       "Fixing attempts:   0%|          | 0/10 [00:00<?, ?it/s]"
      ]
     },
     "metadata": {},
     "output_type": "display_data"
    },
    {
     "data": {
      "application/vnd.jupyter.widget-view+json": {
       "model_id": "8a3e50bc220743b1bcc878c0ea802ec0",
       "version_major": 2,
       "version_minor": 0
      },
      "text/plain": [
       "Fixing attempts:   0%|          | 0/10 [00:00<?, ?it/s]"
      ]
     },
     "metadata": {},
     "output_type": "display_data"
    },
    {
     "data": {
      "application/vnd.jupyter.widget-view+json": {
       "model_id": "82e21637ffb04bcc821c846c41e32216",
       "version_major": 2,
       "version_minor": 0
      },
      "text/plain": [
       "Fixing attempts:   0%|          | 0/10 [00:00<?, ?it/s]"
      ]
     },
     "metadata": {},
     "output_type": "display_data"
    },
    {
     "data": {
      "application/vnd.jupyter.widget-view+json": {
       "model_id": "13f83d68a3824edc8a68201f69d5d2b1",
       "version_major": 2,
       "version_minor": 0
      },
      "text/plain": [
       "Fixing attempts:   0%|          | 0/10 [00:00<?, ?it/s]"
      ]
     },
     "metadata": {},
     "output_type": "display_data"
    },
    {
     "data": {
      "application/vnd.jupyter.widget-view+json": {
       "model_id": "5118e89dc6ad44ce9d81dfa319953beb",
       "version_major": 2,
       "version_minor": 0
      },
      "text/plain": [
       "Fixing attempts:   0%|          | 0/10 [00:00<?, ?it/s]"
      ]
     },
     "metadata": {},
     "output_type": "display_data"
    },
    {
     "data": {
      "application/vnd.jupyter.widget-view+json": {
       "model_id": "ade65e8868564a8d9d20843c13b11551",
       "version_major": 2,
       "version_minor": 0
      },
      "text/plain": [
       "Fixing attempts:   0%|          | 0/10 [00:00<?, ?it/s]"
      ]
     },
     "metadata": {},
     "output_type": "display_data"
    },
    {
     "data": {
      "application/vnd.jupyter.widget-view+json": {
       "model_id": "cb002d8e76f64f50b7031a9ba82fc770",
       "version_major": 2,
       "version_minor": 0
      },
      "text/plain": [
       "Fixing attempts:   0%|          | 0/10 [00:00<?, ?it/s]"
      ]
     },
     "metadata": {},
     "output_type": "display_data"
    },
    {
     "data": {
      "application/vnd.jupyter.widget-view+json": {
       "model_id": "089e5df3582349158cea1df153e35bba",
       "version_major": 2,
       "version_minor": 0
      },
      "text/plain": [
       "Fixing attempts:   0%|          | 0/10 [00:00<?, ?it/s]"
      ]
     },
     "metadata": {},
     "output_type": "display_data"
    },
    {
     "data": {
      "application/vnd.jupyter.widget-view+json": {
       "model_id": "5434755566f446dbbd30f66313bb2547",
       "version_major": 2,
       "version_minor": 0
      },
      "text/plain": [
       "Fixing attempts:   0%|          | 0/10 [00:00<?, ?it/s]"
      ]
     },
     "metadata": {},
     "output_type": "display_data"
    },
    {
     "data": {
      "application/vnd.jupyter.widget-view+json": {
       "model_id": "d35a602c5a0048438e8ac76063a89689",
       "version_major": 2,
       "version_minor": 0
      },
      "text/plain": [
       "Fixing attempts:   0%|          | 0/10 [00:00<?, ?it/s]"
      ]
     },
     "metadata": {},
     "output_type": "display_data"
    },
    {
     "data": {
      "application/vnd.jupyter.widget-view+json": {
       "model_id": "7a73f7898d8b4b08a9e2858f7238ec50",
       "version_major": 2,
       "version_minor": 0
      },
      "text/plain": [
       "Fixing attempts:   0%|          | 0/10 [00:00<?, ?it/s]"
      ]
     },
     "metadata": {},
     "output_type": "display_data"
    },
    {
     "data": {
      "application/vnd.jupyter.widget-view+json": {
       "model_id": "79921f2424cd4aacb907cac0334d13c2",
       "version_major": 2,
       "version_minor": 0
      },
      "text/plain": [
       "Fixing attempts:   0%|          | 0/10 [00:00<?, ?it/s]"
      ]
     },
     "metadata": {},
     "output_type": "display_data"
    },
    {
     "data": {
      "application/vnd.jupyter.widget-view+json": {
       "model_id": "605fa48b1b104ddb994f827b97a3ded0",
       "version_major": 2,
       "version_minor": 0
      },
      "text/plain": [
       "Fixing attempts:   0%|          | 0/10 [00:00<?, ?it/s]"
      ]
     },
     "metadata": {},
     "output_type": "display_data"
    },
    {
     "data": {
      "application/vnd.jupyter.widget-view+json": {
       "model_id": "25d8ab9051274409962cb5ea1fefb87d",
       "version_major": 2,
       "version_minor": 0
      },
      "text/plain": [
       "Fixing attempts:   0%|          | 0/10 [00:00<?, ?it/s]"
      ]
     },
     "metadata": {},
     "output_type": "display_data"
    },
    {
     "data": {
      "application/vnd.jupyter.widget-view+json": {
       "model_id": "373581d73bec4a229b6a7cd0261a5d06",
       "version_major": 2,
       "version_minor": 0
      },
      "text/plain": [
       "Fixing attempts:   0%|          | 0/10 [00:00<?, ?it/s]"
      ]
     },
     "metadata": {},
     "output_type": "display_data"
    },
    {
     "data": {
      "application/vnd.jupyter.widget-view+json": {
       "model_id": "1c8dbfd0811f4096bb084efc23720be7",
       "version_major": 2,
       "version_minor": 0
      },
      "text/plain": [
       "Fixing attempts:   0%|          | 0/10 [00:00<?, ?it/s]"
      ]
     },
     "metadata": {},
     "output_type": "display_data"
    },
    {
     "data": {
      "application/vnd.jupyter.widget-view+json": {
       "model_id": "53b48cca02ae45ed8d0d936fe4743286",
       "version_major": 2,
       "version_minor": 0
      },
      "text/plain": [
       "Fixing attempts:   0%|          | 0/10 [00:00<?, ?it/s]"
      ]
     },
     "metadata": {},
     "output_type": "display_data"
    },
    {
     "data": {
      "application/vnd.jupyter.widget-view+json": {
       "model_id": "c866ca55ba0e4ef1967dabe77a1f508d",
       "version_major": 2,
       "version_minor": 0
      },
      "text/plain": [
       "Fixing attempts:   0%|          | 0/10 [00:00<?, ?it/s]"
      ]
     },
     "metadata": {},
     "output_type": "display_data"
    },
    {
     "data": {
      "application/vnd.jupyter.widget-view+json": {
       "model_id": "38500d120b1944f58e8610e10196f086",
       "version_major": 2,
       "version_minor": 0
      },
      "text/plain": [
       "Fixing attempts:   0%|          | 0/10 [00:00<?, ?it/s]"
      ]
     },
     "metadata": {},
     "output_type": "display_data"
    },
    {
     "data": {
      "application/vnd.jupyter.widget-view+json": {
       "model_id": "56cd1d67657e4d5c80821d443594b466",
       "version_major": 2,
       "version_minor": 0
      },
      "text/plain": [
       "Fixing attempts:   0%|          | 0/10 [00:00<?, ?it/s]"
      ]
     },
     "metadata": {},
     "output_type": "display_data"
    },
    {
     "data": {
      "application/vnd.jupyter.widget-view+json": {
       "model_id": "fb2c869b9a254fb39dc8196b97197d4f",
       "version_major": 2,
       "version_minor": 0
      },
      "text/plain": [
       "Fixing attempts:   0%|          | 0/10 [00:00<?, ?it/s]"
      ]
     },
     "metadata": {},
     "output_type": "display_data"
    },
    {
     "data": {
      "application/vnd.jupyter.widget-view+json": {
       "model_id": "0a4464e6dbb849578c7468a0e720bd1e",
       "version_major": 2,
       "version_minor": 0
      },
      "text/plain": [
       "Fixing attempts:   0%|          | 0/10 [00:00<?, ?it/s]"
      ]
     },
     "metadata": {},
     "output_type": "display_data"
    },
    {
     "data": {
      "application/vnd.jupyter.widget-view+json": {
       "model_id": "7c58fc03aa1b435ca6fcf9d8e19d6495",
       "version_major": 2,
       "version_minor": 0
      },
      "text/plain": [
       "Fixing attempts:   0%|          | 0/10 [00:00<?, ?it/s]"
      ]
     },
     "metadata": {},
     "output_type": "display_data"
    },
    {
     "data": {
      "application/vnd.jupyter.widget-view+json": {
       "model_id": "a7509ff5822f498194a656ff932a9e99",
       "version_major": 2,
       "version_minor": 0
      },
      "text/plain": [
       "Fixing attempts:   0%|          | 0/10 [00:00<?, ?it/s]"
      ]
     },
     "metadata": {},
     "output_type": "display_data"
    },
    {
     "data": {
      "application/vnd.jupyter.widget-view+json": {
       "model_id": "0a2b8db56ee84879b9eb1fc73a8a0f07",
       "version_major": 2,
       "version_minor": 0
      },
      "text/plain": [
       "Fixing attempts:   0%|          | 0/10 [00:00<?, ?it/s]"
      ]
     },
     "metadata": {},
     "output_type": "display_data"
    },
    {
     "data": {
      "application/vnd.jupyter.widget-view+json": {
       "model_id": "f37b4b642e83488d9318aeb0fd34ec33",
       "version_major": 2,
       "version_minor": 0
      },
      "text/plain": [
       "Fixing attempts:   0%|          | 0/10 [00:00<?, ?it/s]"
      ]
     },
     "metadata": {},
     "output_type": "display_data"
    },
    {
     "data": {
      "application/vnd.jupyter.widget-view+json": {
       "model_id": "44147867fb6448cc80e313a41ee215b8",
       "version_major": 2,
       "version_minor": 0
      },
      "text/plain": [
       "Fixing attempts:   0%|          | 0/10 [00:00<?, ?it/s]"
      ]
     },
     "metadata": {},
     "output_type": "display_data"
    },
    {
     "data": {
      "application/vnd.jupyter.widget-view+json": {
       "model_id": "2ec84410c7bc46cfa92ae73f5746cf82",
       "version_major": 2,
       "version_minor": 0
      },
      "text/plain": [
       "Fixing attempts:   0%|          | 0/10 [00:00<?, ?it/s]"
      ]
     },
     "metadata": {},
     "output_type": "display_data"
    },
    {
     "data": {
      "application/vnd.jupyter.widget-view+json": {
       "model_id": "25694482732d408e88ebce74daf8cb2e",
       "version_major": 2,
       "version_minor": 0
      },
      "text/plain": [
       "Fixing attempts:   0%|          | 0/10 [00:00<?, ?it/s]"
      ]
     },
     "metadata": {},
     "output_type": "display_data"
    },
    {
     "data": {
      "application/vnd.jupyter.widget-view+json": {
       "model_id": "6bb9697aff964c6e995dd50eda5f660c",
       "version_major": 2,
       "version_minor": 0
      },
      "text/plain": [
       "Fixing attempts:   0%|          | 0/10 [00:00<?, ?it/s]"
      ]
     },
     "metadata": {},
     "output_type": "display_data"
    },
    {
     "data": {
      "application/vnd.jupyter.widget-view+json": {
       "model_id": "1354a6c5e0d3477a8adb04ca0bedcb2c",
       "version_major": 2,
       "version_minor": 0
      },
      "text/plain": [
       "Fixing attempts:   0%|          | 0/10 [00:00<?, ?it/s]"
      ]
     },
     "metadata": {},
     "output_type": "display_data"
    },
    {
     "data": {
      "application/vnd.jupyter.widget-view+json": {
       "model_id": "549b28358d3640dd9be1d4623717a58f",
       "version_major": 2,
       "version_minor": 0
      },
      "text/plain": [
       "Fixing attempts:   0%|          | 0/10 [00:00<?, ?it/s]"
      ]
     },
     "metadata": {},
     "output_type": "display_data"
    },
    {
     "data": {
      "application/vnd.jupyter.widget-view+json": {
       "model_id": "e90eb483e45d47b79de53c1b2d366d00",
       "version_major": 2,
       "version_minor": 0
      },
      "text/plain": [
       "Fixing attempts:   0%|          | 0/10 [00:00<?, ?it/s]"
      ]
     },
     "metadata": {},
     "output_type": "display_data"
    },
    {
     "data": {
      "application/vnd.jupyter.widget-view+json": {
       "model_id": "479d8ff2f3b3453cbf79de1c468c86ae",
       "version_major": 2,
       "version_minor": 0
      },
      "text/plain": [
       "Fixing attempts:   0%|          | 0/10 [00:00<?, ?it/s]"
      ]
     },
     "metadata": {},
     "output_type": "display_data"
    },
    {
     "data": {
      "application/vnd.jupyter.widget-view+json": {
       "model_id": "9cc336d8250a44e6be5e4bceeba31658",
       "version_major": 2,
       "version_minor": 0
      },
      "text/plain": [
       "Fixing attempts:   0%|          | 0/10 [00:00<?, ?it/s]"
      ]
     },
     "metadata": {},
     "output_type": "display_data"
    },
    {
     "data": {
      "application/vnd.jupyter.widget-view+json": {
       "model_id": "a23cf3e5de654d358331e625b08b3df6",
       "version_major": 2,
       "version_minor": 0
      },
      "text/plain": [
       "Fixing attempts:   0%|          | 0/10 [00:00<?, ?it/s]"
      ]
     },
     "metadata": {},
     "output_type": "display_data"
    },
    {
     "data": {
      "application/vnd.jupyter.widget-view+json": {
       "model_id": "76203238c64b4725b5d99f8a97fd90d5",
       "version_major": 2,
       "version_minor": 0
      },
      "text/plain": [
       "Fixing attempts:   0%|          | 0/10 [00:00<?, ?it/s]"
      ]
     },
     "metadata": {},
     "output_type": "display_data"
    },
    {
     "data": {
      "application/vnd.jupyter.widget-view+json": {
       "model_id": "6872f92ecb0648fb87881fbe7949cf80",
       "version_major": 2,
       "version_minor": 0
      },
      "text/plain": [
       "Fixing attempts:   0%|          | 0/10 [00:00<?, ?it/s]"
      ]
     },
     "metadata": {},
     "output_type": "display_data"
    },
    {
     "data": {
      "application/vnd.jupyter.widget-view+json": {
       "model_id": "446f5265b9394ce6930a5a5161b11969",
       "version_major": 2,
       "version_minor": 0
      },
      "text/plain": [
       "Fixing attempts:   0%|          | 0/10 [00:00<?, ?it/s]"
      ]
     },
     "metadata": {},
     "output_type": "display_data"
    },
    {
     "data": {
      "application/vnd.jupyter.widget-view+json": {
       "model_id": "a86da053977a4c349f1f7accc55b83aa",
       "version_major": 2,
       "version_minor": 0
      },
      "text/plain": [
       "Fixing attempts:   0%|          | 0/10 [00:00<?, ?it/s]"
      ]
     },
     "metadata": {},
     "output_type": "display_data"
    },
    {
     "data": {
      "application/vnd.jupyter.widget-view+json": {
       "model_id": "1f6ac46454da4674a73a22d28a88f21b",
       "version_major": 2,
       "version_minor": 0
      },
      "text/plain": [
       "Fixing attempts:   0%|          | 0/10 [00:00<?, ?it/s]"
      ]
     },
     "metadata": {},
     "output_type": "display_data"
    },
    {
     "data": {
      "application/vnd.jupyter.widget-view+json": {
       "model_id": "77481562d2574511bc31b90508eaee91",
       "version_major": 2,
       "version_minor": 0
      },
      "text/plain": [
       "Fixing attempts:   0%|          | 0/10 [00:00<?, ?it/s]"
      ]
     },
     "metadata": {},
     "output_type": "display_data"
    },
    {
     "data": {
      "application/vnd.jupyter.widget-view+json": {
       "model_id": "8dc418c40f204690a60616668468d93b",
       "version_major": 2,
       "version_minor": 0
      },
      "text/plain": [
       "Fixing attempts:   0%|          | 0/10 [00:00<?, ?it/s]"
      ]
     },
     "metadata": {},
     "output_type": "display_data"
    },
    {
     "data": {
      "application/vnd.jupyter.widget-view+json": {
       "model_id": "1fcbe7a036164e1ea2689f1318ce7e06",
       "version_major": 2,
       "version_minor": 0
      },
      "text/plain": [
       "Fixing attempts:   0%|          | 0/10 [00:00<?, ?it/s]"
      ]
     },
     "metadata": {},
     "output_type": "display_data"
    },
    {
     "data": {
      "application/vnd.jupyter.widget-view+json": {
       "model_id": "76ffa4dc3d144a4bb5e90020f36a08b2",
       "version_major": 2,
       "version_minor": 0
      },
      "text/plain": [
       "Fixing attempts:   0%|          | 0/10 [00:00<?, ?it/s]"
      ]
     },
     "metadata": {},
     "output_type": "display_data"
    },
    {
     "data": {
      "application/vnd.jupyter.widget-view+json": {
       "model_id": "7da11d91bd7b4d6a9887ba4fe4cb7a36",
       "version_major": 2,
       "version_minor": 0
      },
      "text/plain": [
       "Fixing attempts:   0%|          | 0/10 [00:00<?, ?it/s]"
      ]
     },
     "metadata": {},
     "output_type": "display_data"
    },
    {
     "data": {
      "application/vnd.jupyter.widget-view+json": {
       "model_id": "53606dc98b964c3e9ff1d8cc729a3482",
       "version_major": 2,
       "version_minor": 0
      },
      "text/plain": [
       "Fixing attempts:   0%|          | 0/10 [00:00<?, ?it/s]"
      ]
     },
     "metadata": {},
     "output_type": "display_data"
    },
    {
     "data": {
      "application/vnd.jupyter.widget-view+json": {
       "model_id": "1c711db218c241c89de98823f56bd529",
       "version_major": 2,
       "version_minor": 0
      },
      "text/plain": [
       "Fixing attempts:   0%|          | 0/10 [00:00<?, ?it/s]"
      ]
     },
     "metadata": {},
     "output_type": "display_data"
    },
    {
     "data": {
      "application/vnd.jupyter.widget-view+json": {
       "model_id": "fdf94b8170d742bdb1a06ccdcbc3cf53",
       "version_major": 2,
       "version_minor": 0
      },
      "text/plain": [
       "Fixing attempts:   0%|          | 0/10 [00:00<?, ?it/s]"
      ]
     },
     "metadata": {},
     "output_type": "display_data"
    },
    {
     "data": {
      "application/vnd.jupyter.widget-view+json": {
       "model_id": "d0d4a5e1e2f144c8ae8137775f367bd7",
       "version_major": 2,
       "version_minor": 0
      },
      "text/plain": [
       "Fixing attempts:   0%|          | 0/10 [00:00<?, ?it/s]"
      ]
     },
     "metadata": {},
     "output_type": "display_data"
    },
    {
     "data": {
      "application/vnd.jupyter.widget-view+json": {
       "model_id": "8835d4e1c8264080aea5cf6c127d2f0f",
       "version_major": 2,
       "version_minor": 0
      },
      "text/plain": [
       "Fixing attempts:   0%|          | 0/10 [00:00<?, ?it/s]"
      ]
     },
     "metadata": {},
     "output_type": "display_data"
    },
    {
     "data": {
      "application/vnd.jupyter.widget-view+json": {
       "model_id": "48dfa6e54fc6498cb004c69284c062d6",
       "version_major": 2,
       "version_minor": 0
      },
      "text/plain": [
       "Fixing attempts:   0%|          | 0/10 [00:00<?, ?it/s]"
      ]
     },
     "metadata": {},
     "output_type": "display_data"
    },
    {
     "data": {
      "application/vnd.jupyter.widget-view+json": {
       "model_id": "0d7091e51a064c1ab361f032a0f0a3b6",
       "version_major": 2,
       "version_minor": 0
      },
      "text/plain": [
       "Fixing attempts:   0%|          | 0/10 [00:00<?, ?it/s]"
      ]
     },
     "metadata": {},
     "output_type": "display_data"
    },
    {
     "data": {
      "application/vnd.jupyter.widget-view+json": {
       "model_id": "9f57c3a82d944e39815a3cb8d87fe602",
       "version_major": 2,
       "version_minor": 0
      },
      "text/plain": [
       "Fixing attempts:   0%|          | 0/10 [00:00<?, ?it/s]"
      ]
     },
     "metadata": {},
     "output_type": "display_data"
    },
    {
     "data": {
      "application/vnd.jupyter.widget-view+json": {
       "model_id": "2520af333a334ac8a648907ed76a8bce",
       "version_major": 2,
       "version_minor": 0
      },
      "text/plain": [
       "Fixing attempts:   0%|          | 0/10 [00:00<?, ?it/s]"
      ]
     },
     "metadata": {},
     "output_type": "display_data"
    },
    {
     "data": {
      "application/vnd.jupyter.widget-view+json": {
       "model_id": "51f0362838ea4179bad57e059d5552aa",
       "version_major": 2,
       "version_minor": 0
      },
      "text/plain": [
       "Fixing attempts:   0%|          | 0/10 [00:00<?, ?it/s]"
      ]
     },
     "metadata": {},
     "output_type": "display_data"
    },
    {
     "data": {
      "application/vnd.jupyter.widget-view+json": {
       "model_id": "e6b4e4baddbb4dd699c35f8fa42b74c6",
       "version_major": 2,
       "version_minor": 0
      },
      "text/plain": [
       "Fixing attempts:   0%|          | 0/10 [00:00<?, ?it/s]"
      ]
     },
     "metadata": {},
     "output_type": "display_data"
    },
    {
     "data": {
      "application/vnd.jupyter.widget-view+json": {
       "model_id": "323989619f794ddf8ee0427c4983fa1a",
       "version_major": 2,
       "version_minor": 0
      },
      "text/plain": [
       "Fixing attempts:   0%|          | 0/10 [00:00<?, ?it/s]"
      ]
     },
     "metadata": {},
     "output_type": "display_data"
    },
    {
     "data": {
      "application/vnd.jupyter.widget-view+json": {
       "model_id": "110aa88f8d6042fbb0f976604e5a809c",
       "version_major": 2,
       "version_minor": 0
      },
      "text/plain": [
       "Fixing attempts:   0%|          | 0/10 [00:00<?, ?it/s]"
      ]
     },
     "metadata": {},
     "output_type": "display_data"
    },
    {
     "data": {
      "application/vnd.jupyter.widget-view+json": {
       "model_id": "2d2159004cbe48afada71b047e95ed7d",
       "version_major": 2,
       "version_minor": 0
      },
      "text/plain": [
       "Fixing attempts:   0%|          | 0/10 [00:00<?, ?it/s]"
      ]
     },
     "metadata": {},
     "output_type": "display_data"
    },
    {
     "data": {
      "application/vnd.jupyter.widget-view+json": {
       "model_id": "f1e818dc08114bc283b43a3218f9abb5",
       "version_major": 2,
       "version_minor": 0
      },
      "text/plain": [
       "Fixing attempts:   0%|          | 0/10 [00:00<?, ?it/s]"
      ]
     },
     "metadata": {},
     "output_type": "display_data"
    },
    {
     "data": {
      "application/vnd.jupyter.widget-view+json": {
       "model_id": "be27ee651db64d9899e35848ae167836",
       "version_major": 2,
       "version_minor": 0
      },
      "text/plain": [
       "Fixing attempts:   0%|          | 0/10 [00:00<?, ?it/s]"
      ]
     },
     "metadata": {},
     "output_type": "display_data"
    },
    {
     "data": {
      "application/vnd.jupyter.widget-view+json": {
       "model_id": "4f4437c542d847ccbc4aaa37853ec764",
       "version_major": 2,
       "version_minor": 0
      },
      "text/plain": [
       "Fixing attempts:   0%|          | 0/10 [00:00<?, ?it/s]"
      ]
     },
     "metadata": {},
     "output_type": "display_data"
    },
    {
     "data": {
      "application/vnd.jupyter.widget-view+json": {
       "model_id": "27023f3160dc4d4aaae7af39f1df61b5",
       "version_major": 2,
       "version_minor": 0
      },
      "text/plain": [
       "Fixing attempts:   0%|          | 0/10 [00:00<?, ?it/s]"
      ]
     },
     "metadata": {},
     "output_type": "display_data"
    },
    {
     "data": {
      "application/vnd.jupyter.widget-view+json": {
       "model_id": "038b55e177904c0daa335623cad5e96d",
       "version_major": 2,
       "version_minor": 0
      },
      "text/plain": [
       "Fixing attempts:   0%|          | 0/10 [00:00<?, ?it/s]"
      ]
     },
     "metadata": {},
     "output_type": "display_data"
    },
    {
     "data": {
      "application/vnd.jupyter.widget-view+json": {
       "model_id": "6d86c558c66846379ce2dab555cebea4",
       "version_major": 2,
       "version_minor": 0
      },
      "text/plain": [
       "Fixing attempts:   0%|          | 0/10 [00:00<?, ?it/s]"
      ]
     },
     "metadata": {},
     "output_type": "display_data"
    },
    {
     "data": {
      "application/vnd.jupyter.widget-view+json": {
       "model_id": "91edff20d11d423d8ce3079ee7e204a5",
       "version_major": 2,
       "version_minor": 0
      },
      "text/plain": [
       "Fixing attempts:   0%|          | 0/10 [00:00<?, ?it/s]"
      ]
     },
     "metadata": {},
     "output_type": "display_data"
    },
    {
     "data": {
      "application/vnd.jupyter.widget-view+json": {
       "model_id": "6cec782e41e74e1291901692cc02bcec",
       "version_major": 2,
       "version_minor": 0
      },
      "text/plain": [
       "Fixing attempts:   0%|          | 0/10 [00:00<?, ?it/s]"
      ]
     },
     "metadata": {},
     "output_type": "display_data"
    },
    {
     "data": {
      "application/vnd.jupyter.widget-view+json": {
       "model_id": "861d4f99b48e4375afdb44362497ca87",
       "version_major": 2,
       "version_minor": 0
      },
      "text/plain": [
       "Fixing attempts:   0%|          | 0/10 [00:00<?, ?it/s]"
      ]
     },
     "metadata": {},
     "output_type": "display_data"
    },
    {
     "data": {
      "application/vnd.jupyter.widget-view+json": {
       "model_id": "d9ef090a697946449f59733f8aaa8054",
       "version_major": 2,
       "version_minor": 0
      },
      "text/plain": [
       "Fixing attempts:   0%|          | 0/10 [00:00<?, ?it/s]"
      ]
     },
     "metadata": {},
     "output_type": "display_data"
    },
    {
     "data": {
      "application/vnd.jupyter.widget-view+json": {
       "model_id": "e0b021354d644263bdc34293b070d4df",
       "version_major": 2,
       "version_minor": 0
      },
      "text/plain": [
       "Fixing attempts:   0%|          | 0/10 [00:00<?, ?it/s]"
      ]
     },
     "metadata": {},
     "output_type": "display_data"
    },
    {
     "data": {
      "application/vnd.jupyter.widget-view+json": {
       "model_id": "5097847ddd4c476a9e8a5401ea924c8c",
       "version_major": 2,
       "version_minor": 0
      },
      "text/plain": [
       "Fixing attempts:   0%|          | 0/10 [00:00<?, ?it/s]"
      ]
     },
     "metadata": {},
     "output_type": "display_data"
    },
    {
     "data": {
      "application/vnd.jupyter.widget-view+json": {
       "model_id": "978bfe2d768d4803880684f3c2bd7a26",
       "version_major": 2,
       "version_minor": 0
      },
      "text/plain": [
       "Fixing attempts:   0%|          | 0/10 [00:00<?, ?it/s]"
      ]
     },
     "metadata": {},
     "output_type": "display_data"
    },
    {
     "data": {
      "application/vnd.jupyter.widget-view+json": {
       "model_id": "0664a3d9bb91427284b14aa1ad30edeb",
       "version_major": 2,
       "version_minor": 0
      },
      "text/plain": [
       "Fixing attempts:   0%|          | 0/10 [00:00<?, ?it/s]"
      ]
     },
     "metadata": {},
     "output_type": "display_data"
    },
    {
     "data": {
      "application/vnd.jupyter.widget-view+json": {
       "model_id": "65ba8d4145d7434496ee4cef93028233",
       "version_major": 2,
       "version_minor": 0
      },
      "text/plain": [
       "Fixing attempts:   0%|          | 0/10 [00:00<?, ?it/s]"
      ]
     },
     "metadata": {},
     "output_type": "display_data"
    },
    {
     "data": {
      "application/vnd.jupyter.widget-view+json": {
       "model_id": "4f6b028da943444e95c353d88e6fbbcf",
       "version_major": 2,
       "version_minor": 0
      },
      "text/plain": [
       "Fixing attempts:   0%|          | 0/10 [00:00<?, ?it/s]"
      ]
     },
     "metadata": {},
     "output_type": "display_data"
    },
    {
     "data": {
      "application/vnd.jupyter.widget-view+json": {
       "model_id": "2d3abff1dbb341418ad5be0ed020fa6e",
       "version_major": 2,
       "version_minor": 0
      },
      "text/plain": [
       "Fixing attempts:   0%|          | 0/10 [00:00<?, ?it/s]"
      ]
     },
     "metadata": {},
     "output_type": "display_data"
    },
    {
     "data": {
      "application/vnd.jupyter.widget-view+json": {
       "model_id": "7c4ec2f61b204f038ec40ea879bd0d41",
       "version_major": 2,
       "version_minor": 0
      },
      "text/plain": [
       "Fixing attempts:   0%|          | 0/10 [00:00<?, ?it/s]"
      ]
     },
     "metadata": {},
     "output_type": "display_data"
    },
    {
     "data": {
      "application/vnd.jupyter.widget-view+json": {
       "model_id": "46f1ef601a214b26851b468ddbaa521f",
       "version_major": 2,
       "version_minor": 0
      },
      "text/plain": [
       "Fixing attempts:   0%|          | 0/10 [00:00<?, ?it/s]"
      ]
     },
     "metadata": {},
     "output_type": "display_data"
    },
    {
     "data": {
      "application/vnd.jupyter.widget-view+json": {
       "model_id": "ccf2a2f951bf43db850eab8208b116d4",
       "version_major": 2,
       "version_minor": 0
      },
      "text/plain": [
       "Fixing attempts:   0%|          | 0/10 [00:00<?, ?it/s]"
      ]
     },
     "metadata": {},
     "output_type": "display_data"
    },
    {
     "data": {
      "application/vnd.jupyter.widget-view+json": {
       "model_id": "8a4e64b4dfe14037aa168e5cc923428b",
       "version_major": 2,
       "version_minor": 0
      },
      "text/plain": [
       "Fixing attempts:   0%|          | 0/10 [00:00<?, ?it/s]"
      ]
     },
     "metadata": {},
     "output_type": "display_data"
    },
    {
     "data": {
      "application/vnd.jupyter.widget-view+json": {
       "model_id": "6644ac2b49414b49b3b6b95a9f02ec37",
       "version_major": 2,
       "version_minor": 0
      },
      "text/plain": [
       "Fixing attempts:   0%|          | 0/10 [00:00<?, ?it/s]"
      ]
     },
     "metadata": {},
     "output_type": "display_data"
    },
    {
     "data": {
      "application/vnd.jupyter.widget-view+json": {
       "model_id": "1a659d6ab3d7414b9d01c8499fc192c0",
       "version_major": 2,
       "version_minor": 0
      },
      "text/plain": [
       "Fixing attempts:   0%|          | 0/10 [00:00<?, ?it/s]"
      ]
     },
     "metadata": {},
     "output_type": "display_data"
    },
    {
     "data": {
      "application/vnd.jupyter.widget-view+json": {
       "model_id": "2ea0601312274a4bba62af7fcbaf2bd0",
       "version_major": 2,
       "version_minor": 0
      },
      "text/plain": [
       "Fixing attempts:   0%|          | 0/10 [00:00<?, ?it/s]"
      ]
     },
     "metadata": {},
     "output_type": "display_data"
    },
    {
     "data": {
      "application/vnd.jupyter.widget-view+json": {
       "model_id": "820f209a45744d26a27b5bc3c3b90d52",
       "version_major": 2,
       "version_minor": 0
      },
      "text/plain": [
       "Fixing attempts:   0%|          | 0/10 [00:00<?, ?it/s]"
      ]
     },
     "metadata": {},
     "output_type": "display_data"
    },
    {
     "data": {
      "application/vnd.jupyter.widget-view+json": {
       "model_id": "5885125bcaf6487b8cc90eeb114be625",
       "version_major": 2,
       "version_minor": 0
      },
      "text/plain": [
       "Fixing attempts:   0%|          | 0/10 [00:00<?, ?it/s]"
      ]
     },
     "metadata": {},
     "output_type": "display_data"
    },
    {
     "data": {
      "application/vnd.jupyter.widget-view+json": {
       "model_id": "47b64c17542d41ec9ab0c3d2e458917c",
       "version_major": 2,
       "version_minor": 0
      },
      "text/plain": [
       "Fixing attempts:   0%|          | 0/10 [00:00<?, ?it/s]"
      ]
     },
     "metadata": {},
     "output_type": "display_data"
    },
    {
     "data": {
      "application/vnd.jupyter.widget-view+json": {
       "model_id": "c98060686c3c4acaad1c52ec704cca44",
       "version_major": 2,
       "version_minor": 0
      },
      "text/plain": [
       "Fixing attempts:   0%|          | 0/10 [00:00<?, ?it/s]"
      ]
     },
     "metadata": {},
     "output_type": "display_data"
    },
    {
     "data": {
      "application/vnd.jupyter.widget-view+json": {
       "model_id": "c6ca9f31fff54fc59c7dee1d2d70226a",
       "version_major": 2,
       "version_minor": 0
      },
      "text/plain": [
       "Fixing attempts:   0%|          | 0/10 [00:00<?, ?it/s]"
      ]
     },
     "metadata": {},
     "output_type": "display_data"
    },
    {
     "data": {
      "application/vnd.jupyter.widget-view+json": {
       "model_id": "e4ac8b24228a4ba38d4fb2aa1e5dd315",
       "version_major": 2,
       "version_minor": 0
      },
      "text/plain": [
       "Fixing attempts:   0%|          | 0/10 [00:00<?, ?it/s]"
      ]
     },
     "metadata": {},
     "output_type": "display_data"
    },
    {
     "data": {
      "application/vnd.jupyter.widget-view+json": {
       "model_id": "756ee6b28b0a44f2ac70038340aea2a7",
       "version_major": 2,
       "version_minor": 0
      },
      "text/plain": [
       "Fixing attempts:   0%|          | 0/10 [00:00<?, ?it/s]"
      ]
     },
     "metadata": {},
     "output_type": "display_data"
    },
    {
     "data": {
      "application/vnd.jupyter.widget-view+json": {
       "model_id": "b57d514ec9974150b4af90caa0142808",
       "version_major": 2,
       "version_minor": 0
      },
      "text/plain": [
       "Fixing attempts:   0%|          | 0/10 [00:00<?, ?it/s]"
      ]
     },
     "metadata": {},
     "output_type": "display_data"
    },
    {
     "data": {
      "application/vnd.jupyter.widget-view+json": {
       "model_id": "a6579441cf90424aaa9a9e0faf4a830d",
       "version_major": 2,
       "version_minor": 0
      },
      "text/plain": [
       "Fixing attempts:   0%|          | 0/10 [00:00<?, ?it/s]"
      ]
     },
     "metadata": {},
     "output_type": "display_data"
    },
    {
     "data": {
      "application/vnd.jupyter.widget-view+json": {
       "model_id": "6ac910aabfc141abb501343b80d74701",
       "version_major": 2,
       "version_minor": 0
      },
      "text/plain": [
       "Fixing attempts:   0%|          | 0/10 [00:00<?, ?it/s]"
      ]
     },
     "metadata": {},
     "output_type": "display_data"
    },
    {
     "data": {
      "application/vnd.jupyter.widget-view+json": {
       "model_id": "238cb645bc26469e8b91e1da045882ab",
       "version_major": 2,
       "version_minor": 0
      },
      "text/plain": [
       "Fixing attempts:   0%|          | 0/10 [00:00<?, ?it/s]"
      ]
     },
     "metadata": {},
     "output_type": "display_data"
    },
    {
     "data": {
      "application/vnd.jupyter.widget-view+json": {
       "model_id": "486c81caca6042fa9c373f0dfee64802",
       "version_major": 2,
       "version_minor": 0
      },
      "text/plain": [
       "Fixing attempts:   0%|          | 0/10 [00:00<?, ?it/s]"
      ]
     },
     "metadata": {},
     "output_type": "display_data"
    },
    {
     "data": {
      "application/vnd.jupyter.widget-view+json": {
       "model_id": "6ca853fba4a14971982a0e4a27371e32",
       "version_major": 2,
       "version_minor": 0
      },
      "text/plain": [
       "Fixing attempts:   0%|          | 0/10 [00:00<?, ?it/s]"
      ]
     },
     "metadata": {},
     "output_type": "display_data"
    },
    {
     "data": {
      "application/vnd.jupyter.widget-view+json": {
       "model_id": "0de7ecb656c440a980bdb6c7ff62e4ec",
       "version_major": 2,
       "version_minor": 0
      },
      "text/plain": [
       "Fixing attempts:   0%|          | 0/10 [00:00<?, ?it/s]"
      ]
     },
     "metadata": {},
     "output_type": "display_data"
    },
    {
     "data": {
      "application/vnd.jupyter.widget-view+json": {
       "model_id": "27d67108151240c3a2b1cfa11edfeec9",
       "version_major": 2,
       "version_minor": 0
      },
      "text/plain": [
       "Fixing attempts:   0%|          | 0/10 [00:00<?, ?it/s]"
      ]
     },
     "metadata": {},
     "output_type": "display_data"
    },
    {
     "data": {
      "application/vnd.jupyter.widget-view+json": {
       "model_id": "749646ed87b94fe1962b26e224e69f71",
       "version_major": 2,
       "version_minor": 0
      },
      "text/plain": [
       "Fixing attempts:   0%|          | 0/10 [00:00<?, ?it/s]"
      ]
     },
     "metadata": {},
     "output_type": "display_data"
    },
    {
     "data": {
      "application/vnd.jupyter.widget-view+json": {
       "model_id": "bc8f67e0aa13415f90bc7a56a1780a42",
       "version_major": 2,
       "version_minor": 0
      },
      "text/plain": [
       "Fixing attempts:   0%|          | 0/10 [00:00<?, ?it/s]"
      ]
     },
     "metadata": {},
     "output_type": "display_data"
    },
    {
     "data": {
      "application/vnd.jupyter.widget-view+json": {
       "model_id": "7c6081e9a5e84e8e8efd5f584f51bbe4",
       "version_major": 2,
       "version_minor": 0
      },
      "text/plain": [
       "Fixing attempts:   0%|          | 0/10 [00:00<?, ?it/s]"
      ]
     },
     "metadata": {},
     "output_type": "display_data"
    },
    {
     "data": {
      "application/vnd.jupyter.widget-view+json": {
       "model_id": "9f261351bfe24ba5b832cf6af4acc12b",
       "version_major": 2,
       "version_minor": 0
      },
      "text/plain": [
       "Fixing attempts:   0%|          | 0/10 [00:00<?, ?it/s]"
      ]
     },
     "metadata": {},
     "output_type": "display_data"
    },
    {
     "data": {
      "application/vnd.jupyter.widget-view+json": {
       "model_id": "ad86dc5b59704964ac0a8ce8e689a13a",
       "version_major": 2,
       "version_minor": 0
      },
      "text/plain": [
       "Fixing attempts:   0%|          | 0/10 [00:00<?, ?it/s]"
      ]
     },
     "metadata": {},
     "output_type": "display_data"
    },
    {
     "data": {
      "application/vnd.jupyter.widget-view+json": {
       "model_id": "5a2d804024f744b4b2e13a2f40075f46",
       "version_major": 2,
       "version_minor": 0
      },
      "text/plain": [
       "Fixing attempts:   0%|          | 0/10 [00:00<?, ?it/s]"
      ]
     },
     "metadata": {},
     "output_type": "display_data"
    },
    {
     "data": {
      "application/vnd.jupyter.widget-view+json": {
       "model_id": "3c25e9bb85ad4c72ad3f8af54ccdb6c4",
       "version_major": 2,
       "version_minor": 0
      },
      "text/plain": [
       "Fixing attempts:   0%|          | 0/10 [00:00<?, ?it/s]"
      ]
     },
     "metadata": {},
     "output_type": "display_data"
    },
    {
     "data": {
      "application/vnd.jupyter.widget-view+json": {
       "model_id": "51eb3b3376254af5ab214f7e65e8b63e",
       "version_major": 2,
       "version_minor": 0
      },
      "text/plain": [
       "Fixing attempts:   0%|          | 0/10 [00:00<?, ?it/s]"
      ]
     },
     "metadata": {},
     "output_type": "display_data"
    },
    {
     "data": {
      "application/vnd.jupyter.widget-view+json": {
       "model_id": "674eb3834d5e410cb67b3af543235e1f",
       "version_major": 2,
       "version_minor": 0
      },
      "text/plain": [
       "Fixing attempts:   0%|          | 0/10 [00:00<?, ?it/s]"
      ]
     },
     "metadata": {},
     "output_type": "display_data"
    },
    {
     "data": {
      "application/vnd.jupyter.widget-view+json": {
       "model_id": "87f7ad8eb0864914aa320fab1fbe2ca5",
       "version_major": 2,
       "version_minor": 0
      },
      "text/plain": [
       "Fixing attempts:   0%|          | 0/10 [00:00<?, ?it/s]"
      ]
     },
     "metadata": {},
     "output_type": "display_data"
    },
    {
     "data": {
      "application/vnd.jupyter.widget-view+json": {
       "model_id": "e8e2172cb1aa4b7da8d0e028bb841a96",
       "version_major": 2,
       "version_minor": 0
      },
      "text/plain": [
       "Fixing attempts:   0%|          | 0/10 [00:00<?, ?it/s]"
      ]
     },
     "metadata": {},
     "output_type": "display_data"
    },
    {
     "data": {
      "application/vnd.jupyter.widget-view+json": {
       "model_id": "12a6222697e64180b1ce2da09c3a920d",
       "version_major": 2,
       "version_minor": 0
      },
      "text/plain": [
       "Fixing attempts:   0%|          | 0/10 [00:00<?, ?it/s]"
      ]
     },
     "metadata": {},
     "output_type": "display_data"
    },
    {
     "data": {
      "application/vnd.jupyter.widget-view+json": {
       "model_id": "4bed7cf5eab74a3fa6cad5fb69b89b4a",
       "version_major": 2,
       "version_minor": 0
      },
      "text/plain": [
       "Fixing attempts:   0%|          | 0/10 [00:00<?, ?it/s]"
      ]
     },
     "metadata": {},
     "output_type": "display_data"
    },
    {
     "name": "stderr",
     "output_type": "stream",
     "text": [
      "IOPub message rate exceeded.\n",
      "The Jupyter server will temporarily stop sending output\n",
      "to the client in order to avoid crashing it.\n",
      "To change this limit, set the config variable\n",
      "`--ServerApp.iopub_msg_rate_limit`.\n",
      "\n",
      "Current values:\n",
      "ServerApp.iopub_msg_rate_limit=1000.0 (msgs/sec)\n",
      "ServerApp.rate_limit_window=3.0 (secs)\n",
      "\n"
     ]
    },
    {
     "data": {
      "application/vnd.jupyter.widget-view+json": {
       "model_id": "abaebbd7cf5e45b8a726e735f9366bd5",
       "version_major": 2,
       "version_minor": 0
      },
      "text/plain": [
       "Fixing attempts:   0%|          | 0/10 [00:00<?, ?it/s]"
      ]
     },
     "metadata": {},
     "output_type": "display_data"
    },
    {
     "data": {
      "application/vnd.jupyter.widget-view+json": {
       "model_id": "f91fe2a2c0984cffaff2452cbb656f5c",
       "version_major": 2,
       "version_minor": 0
      },
      "text/plain": [
       "Fixing attempts:   0%|          | 0/10 [00:00<?, ?it/s]"
      ]
     },
     "metadata": {},
     "output_type": "display_data"
    },
    {
     "data": {
      "application/vnd.jupyter.widget-view+json": {
       "model_id": "dc8e25a571f44d28a237bbf1ebf456e1",
       "version_major": 2,
       "version_minor": 0
      },
      "text/plain": [
       "Fixing attempts:   0%|          | 0/10 [00:00<?, ?it/s]"
      ]
     },
     "metadata": {},
     "output_type": "display_data"
    }
   ],
   "source": [
    "json_fixed_data = perform_fixing_code(test_dataset[0])"
   ]
  },
  {
   "cell_type": "code",
   "execution_count": 77,
   "id": "da2c62dd-d355-4506-9b96-ef1c093f0e4d",
   "metadata": {},
   "outputs": [],
   "source": [
    "write_json_to_file(\n",
    "    json_fixed_data,\n",
    "    os.path.join(github_python_dataset, 'model-fixer.pred.evaluated-llm.3.json'),\n",
    "    2\n",
    ")"
   ]
  },
  {
   "cell_type": "code",
   "execution_count": 36,
   "id": "c96701c7-3977-412e-b1da-8cd3255d550d",
   "metadata": {},
   "outputs": [
    {
     "data": {
      "text/plain": [
       "5"
      ]
     },
     "execution_count": 36,
     "metadata": {},
     "output_type": "execute_result"
    }
   ],
   "source": [
    "len(test_dataset[0][:5])"
   ]
  },
  {
   "cell_type": "code",
   "execution_count": null,
   "id": "7b7f882f-e85d-4b19-894a-9b2231908c89",
   "metadata": {},
   "outputs": [],
   "source": [
    "\n",
    "\n",
    "    # Write the results to a JSON file\n",
    "    with open(output_filename, \"w\") as outfile:\n",
    "        json.dump(results, outfile, indent=4)"
   ]
  },
  {
   "cell_type": "code",
   "execution_count": 14,
   "id": "979fac3e-225e-4aff-ba94-3f74143f8aa4",
   "metadata": {},
   "outputs": [
    {
     "data": {
      "text/plain": [
       "'def test_pp_no_constraint ( self ) :\\n    filenames = [ tests . get_data_path ( ( \"str\" , \"str\" , \"str\" ) ) ]\\n    pp_constraints = pp . _convert_constraints ( None )\\n    pp_loader = iris . fileformats . rules . Loader ( pp . load , { } ,\\n        convert , pp . _load_rules )\\n    cubes = list ( load_cubes ( filenames , None , pp_loader , pp_constraints )\\n    self . assertEqual ( len ( cubes ) , 152 )\\n'"
      ]
     },
     "execution_count": 14,
     "metadata": {},
     "output_type": "execute_result"
    }
   ],
   "source": [
    "first_code"
   ]
  },
  {
   "cell_type": "code",
   "execution_count": 15,
   "id": "0b5b1883-c959-453c-a95f-b59423045cf6",
   "metadata": {},
   "outputs": [],
   "source": [
    "import Levenshtein"
   ]
  },
  {
   "cell_type": "code",
   "execution_count": 16,
   "id": "6398b71b-be79-4ab4-8a69-e6959973a22e",
   "metadata": {},
   "outputs": [
    {
     "name": "stderr",
     "output_type": "stream",
     "text": [
      "Setting `pad_token_id` to `eos_token_id`:None for open-end generation.\n"
     ]
    },
    {
     "data": {
      "text/plain": [
       "'def test_pp_no_constraint ( self ) :\\n    filenames = [ tests. get_data_path ( (\"str\", \"str\", \"str\") ) ]\\n    pp_constraints = pp._convert_constraints(None)\\n    pp_loader = iris.fileformats.rules.Loader(pp.load, {}, convert, pp._load_rules)\\n    cubes = list(load_cubes(filenames, None, pp_loader, pp_constraints))\\n    self.assertEqual(len(cubes), 152)'"
      ]
     },
     "execution_count": 16,
     "metadata": {},
     "output_type": "execute_result"
    }
   ],
   "source": [
    "fixed_code = fix_code(first_code)\n",
    "fixed_code"
   ]
  },
  {
   "cell_type": "code",
   "execution_count": 17,
   "id": "bb88badd-7a91-48d1-8f5d-455696b2b312",
   "metadata": {},
   "outputs": [],
   "source": [
    "validate_code(fixed_code)"
   ]
  },
  {
   "cell_type": "code",
   "execution_count": 18,
   "id": "e603a373-a5cb-4707-b737-0ea8cc6b0108",
   "metadata": {},
   "outputs": [
    {
     "name": "stdout",
     "output_type": "stream",
     "text": [
      "Levenshtein distance: 53\n"
     ]
    }
   ],
   "source": [
    "distance = Levenshtein.distance(first_code, fixed_code)\n",
    "print(f\"Levenshtein distance: {distance}\")"
   ]
  },
  {
   "cell_type": "markdown",
   "id": "0cab7b95-369e-4e92-89c5-565b9173d4f8",
   "metadata": {
    "jp-MarkdownHeadingCollapsed": true
   },
   "source": [
    "# WIP"
   ]
  },
  {
   "cell_type": "code",
   "execution_count": null,
   "id": "a0e41cb4-95a3-4804-b0cd-b5f12a5ed56d",
   "metadata": {},
   "outputs": [],
   "source": [
    "import torch\n",
    "from transformers import pipeline\n",
    "\n",
    "model_id = \"meta-llama/Llama-3.2-3B-Instruct\"\n",
    "pipe = pipeline(\n",
    "    \"text-generation\",\n",
    "    model=model_id,\n",
    "    torch_dtype=torch.bfloat16,\n",
    "    device_map=\"auto\",\n",
    ")"
   ]
  },
  {
   "cell_type": "code",
   "execution_count": null,
   "id": "635cbf41-48f0-43f2-b573-ba4ff6fbe963",
   "metadata": {},
   "outputs": [],
   "source": [
    "messages = [\n",
    "    {\"role\": \"system\", \"content\": \"You are a Python syntax error correction expert. You will receive code snippets with syntax errors, prefixed with [Fix]. Each input will have two parts separated by a vertical bar (|). You will only fix the provided code, without any additional explanation.\"},\n",
    "]\n",
    "outputs = pipe(\n",
    "    messages,\n",
    "    max_new_tokens=128,\n",
    ")\n",
    "print(outputs[0][\"generated_text\"][-1])"
   ]
  },
  {
   "cell_type": "code",
   "execution_count": 11,
   "id": "67e39ccc-b21c-4226-ad33-59486c58504a",
   "metadata": {},
   "outputs": [
    {
     "data": {
      "application/vnd.jupyter.widget-view+json": {
       "model_id": "6defeb76a36f460b91cb495f58722cb2",
       "version_major": 2,
       "version_minor": 0
      },
      "text/plain": [
       "Loading checkpoint shards:   0%|          | 0/2 [00:00<?, ?it/s]"
      ]
     },
     "metadata": {},
     "output_type": "display_data"
    },
    {
     "name": "stderr",
     "output_type": "stream",
     "text": [
      "Some parameters are on the meta device because they were offloaded to the cpu.\n",
      "Setting `pad_token_id` to `eos_token_id`:None for open-end generation.\n"
     ]
    },
    {
     "name": "stdout",
     "output_type": "stream",
     "text": [
      "{'role': 'assistant', 'content': 'def greet(name):\\n  print(\"Hello, \" + name)'}\n"
     ]
    }
   ],
   "source": [
    "from transformers import pipeline\n",
    "\n",
    "model_id = \"meta-llama/Llama-3.2-3B-Instruct\"\n",
    "pipe = pipeline(\n",
    "    \"text-generation\",\n",
    "    model=model_id,\n",
    "    torch_dtype=torch.bfloat16,\n",
    "    device_map=\"auto\",\n",
    ")\n",
    "\n",
    "error_code = \"SyntaxError: invalid syntax\"\n",
    "code_snippet = \"\"\"\n",
    "def greet(name):\n",
    "  print(\"Hello, \" + name \n",
    "\n",
    "greet(\"Alice\")\n",
    "\"\"\"\n",
    "\n",
    "messages = [\n",
    "    { \n",
    "        \"role\": \"system\", \n",
    "        \"content\": \\\n",
    "            \"You are an expert Python code fixer. \\\n",
    "             You will receive input in the following format: \\n\\n \\\n",
    "             [Fix] | <error code>\\n \\\n",
    "             <python code snippet>\\n\\n \\\n",
    "             Your task is to ONLY provide the corrected Python code with NO explanations or additional text. \\n \\\n",
    "             Do not include the original error code in your response and do not format the code. \\\n",
    "             Treat the code snippet as regular text.\"\n",
    "    }\n",
    "]\n",
    "\n",
    "messages.append({\"role\": \"user\", \"content\": f\"\"\"\n",
    "[Fix] | {error_code}\n",
    "{code_snippet}\n",
    "\"\"\"})\n",
    "\n",
    "outputs = pipe(messages, max_new_tokens=256)\n",
    "print(outputs[0][\"generated_text\"][-1])"
   ]
  },
  {
   "cell_type": "code",
   "execution_count": 13,
   "id": "e59877aa-a023-439f-9b54-22c1d0ba5137",
   "metadata": {},
   "outputs": [
    {
     "data": {
      "text/plain": [
       "'def greet(name):\\n  print(\"Hello, \" + name)'"
      ]
     },
     "execution_count": 13,
     "metadata": {},
     "output_type": "execute_result"
    }
   ],
   "source": [
    "fixed_code = outputs[0][\"generated_text\"][-1]['content']\n",
    "fixed_code"
   ]
  },
  {
   "cell_type": "code",
   "execution_count": 14,
   "id": "ed0263b8-c4df-48d5-820f-c1740a9e1133",
   "metadata": {},
   "outputs": [
    {
     "data": {
      "text/plain": [
       "\"'(' was never closed (<unknown>, line 3)\""
      ]
     },
     "execution_count": 14,
     "metadata": {},
     "output_type": "execute_result"
    }
   ],
   "source": [
    "validate_code(code_snippet)"
   ]
  },
  {
   "cell_type": "code",
   "execution_count": 15,
   "id": "6e3e0e23-20e7-4b6a-8dca-2cddca62e481",
   "metadata": {},
   "outputs": [],
   "source": [
    "validate_code(fixed_code)"
   ]
  },
  {
   "cell_type": "code",
   "execution_count": null,
   "id": "01e09ea6-79ce-472e-899f-c716c030db50",
   "metadata": {},
   "outputs": [],
   "source": []
  }
 ],
 "metadata": {
  "kernelspec": {
   "display_name": "Python 3 (ipykernel)",
   "language": "python",
   "name": "python3"
  },
  "language_info": {
   "codemirror_mode": {
    "name": "ipython",
    "version": 3
   },
   "file_extension": ".py",
   "mimetype": "text/x-python",
   "name": "python",
   "nbconvert_exporter": "python",
   "pygments_lexer": "ipython3",
   "version": "3.11.9"
  }
 },
 "nbformat": 4,
 "nbformat_minor": 5
}
