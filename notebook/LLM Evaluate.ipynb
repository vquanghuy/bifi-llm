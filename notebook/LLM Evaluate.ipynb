{
 "cells": [
  {
   "cell_type": "markdown",
   "id": "969bcfd6-7ec0-4779-86bd-6e047d6ff1ab",
   "metadata": {},
   "source": [
    "# Helper functions"
   ]
  },
  {
   "cell_type": "code",
   "execution_count": 2,
   "id": "85944a5f-510a-4d95-8c14-4dc84d686b8a",
   "metadata": {},
   "outputs": [
    {
     "name": "stdout",
     "output_type": "stream",
     "text": [
      "Total number of objects: 37639\n",
      "First object: {'progid': '3f75c5788ea80f1ea8de77ed565a3281', 'orig_err_obj': {'msg': 'unbalanced (){}[]'}, 'anonymize_dict': {'<STRING>': [], '<unk>': ['test_delitem_keyerror', 'EntryBase', 'req_'], '<COMMENT>': []}, 'src': {'tok_format': 'def <unk> ( self ) : <NEWLINE> <INDENT> e = <unk> ( <unk> ( ) <NEWLINE> del e [ <STRING> ] <NEWLINE> <DEDENT>', 'string_format': 'def test_delitem_keyerror ( self ) :\\n    e = EntryBase ( req_ ( )\\n    del e [ \"str\" ]\\n'}, 'pred': [{'tok_format': 'def <unk> ( self ) : <NEWLINE> <INDENT> e = <unk> ( <unk> ( ) ) <NEWLINE> del e [ <STRING> ] <NEWLINE> <DEDENT>', 'string_format': 'def test_delitem_keyerror ( self ) :\\n    e = EntryBase ( req_ ( ) )\\n    del e [ \"str\" ]\\n', 'err_obj': 0, 'diff_metric': 1}, {'tok_format': 'def <unk> ( self ) : <NEWLINE> <INDENT> e = <unk> ( <unk> ) <NEWLINE> del e [ <STRING> ] <NEWLINE> <DEDENT>', 'string_format': 'def test_delitem_keyerror ( self ) :\\n    e = EntryBase ( req_ )\\n    del e [ \"str\" ]\\n', 'err_obj': 0, 'diff_metric': 1}, {'tok_format': 'def <unk> ( self ) : <NEWLINE> <INDENT> e = <unk> ( <unk> ( ) ) <NEWLINE> return e [ <STRING> ] <NEWLINE> <DEDENT>', 'string_format': 'def test_delitem_keyerror ( self ) :\\n    e = EntryBase ( req_ ( ) )\\n    return e [ \"str\" ]\\n', 'err_obj': 0, 'diff_metric': 2}, {'tok_format': 'def <unk> ( self ) : <NEWLINE> <INDENT> e = <unk> ( <unk> , True ) <NEWLINE> del e [ <STRING> ] <NEWLINE> <DEDENT>', 'string_format': 'def test_delitem_keyerror ( self ) :\\n    e = EntryBase ( req_ , True )\\n    del e [ \"str\" ]\\n', 'err_obj': 0, 'diff_metric': 2}, {'tok_format': 'def <unk> ( self ) : <NEWLINE> <INDENT> e = <unk> ( <unk> ( ) ) <NEWLINE> yield e [ <STRING> ] <NEWLINE> <DEDENT>', 'string_format': 'def test_delitem_keyerror ( self ) :\\n    e = EntryBase ( req_ ( ) )\\n    yield e [ \"str\" ]\\n', 'err_obj': 0, 'diff_metric': 2}, {'tok_format': 'def <unk> ( self ) : <NEWLINE> <INDENT> e = <unk> ( <unk> , False ) <NEWLINE> del e [ <STRING> ] <NEWLINE> <DEDENT>', 'string_format': 'def test_delitem_keyerror ( self ) :\\n    e = EntryBase ( req_ , False )\\n    del e [ \"str\" ]\\n', 'err_obj': 0, 'diff_metric': 2}, {'tok_format': 'def <unk> ( self ) : <NEWLINE> <INDENT> e = <unk> ( <unk> , None ) <NEWLINE> del e [ <STRING> ] <NEWLINE> <DEDENT>', 'string_format': 'def test_delitem_keyerror ( self ) :\\n    e = EntryBase ( req_ , None )\\n    del e [ \"str\" ]\\n', 'err_obj': 0, 'diff_metric': 2}, {'tok_format': 'def <unk> ( self ) : <NEWLINE> <INDENT> e = <unk> ( <unk> ) ( ) <NEWLINE> del e [ <STRING> ] <NEWLINE> <DEDENT>', 'string_format': 'def test_delitem_keyerror ( self ) :\\n    e = EntryBase ( req_ ) ( )\\n    del e [ \"str\" ]\\n', 'err_obj': 0, 'diff_metric': 1}, {'tok_format': 'def <unk> ( self ) : <NEWLINE> <INDENT> e = <unk> ( <unk> ) <NEWLINE> return e [ <STRING> ] <NEWLINE> <DEDENT>', 'string_format': 'def test_delitem_keyerror ( self ) :\\n    e = EntryBase ( req_ )\\n    return e [ \"str\" ]\\n', 'err_obj': 0, 'diff_metric': 2}, {'tok_format': 'def <unk> ( self ) : <NEWLINE> <INDENT> e = <unk> ( <unk> ( ) ) <NEWLINE> del e [ <STRING> ] <NEWLINE>', 'string_format': 'def test_delitem_keyerror ( self ) :\\n    e = EntryBase ( req_ ( ) )\\n    del e [ \"str\" ]\\n', 'err_obj': 0, 'diff_metric': 2}]}\n"
     ]
    }
   ],
   "source": [
    "# Load the test dataset\n",
    "import json\n",
    "import os\n",
    "\n",
    "def load_json_from_folder(folder_path):\n",
    "  \"\"\"\n",
    "  Loads all JSON files from a specified folder.\n",
    "\n",
    "  Args:\n",
    "    folder_path: The path to the folder containing the JSON files.\n",
    "\n",
    "  Returns:\n",
    "    A list containing all JSON objects from the files.\n",
    "  \"\"\"\n",
    "\n",
    "  all_data = []\n",
    "  for filename in os.listdir(folder_path):\n",
    "    if filename.endswith(\".json\"):\n",
    "      filepath = os.path.join(folder_path, filename)\n",
    "      try:\n",
    "        with open(filepath, 'r') as f:\n",
    "          data = json.load(f)\n",
    "          all_data.extend(data)\n",
    "      except json.JSONDecodeError as e:\n",
    "        print(f\"Error decoding JSON in file {filename}: {e}\")\n",
    "  return all_data"
   ]
  },
  {
   "cell_type": "code",
   "execution_count": 4,
   "id": "f71657c6-51e3-49d0-a246-9a2f7c5ac493",
   "metadata": {},
   "outputs": [],
   "source": [
    "import ast\n",
    "\n",
    "def validate_code(code_str):\n",
    "  \"\"\"\n",
    "  Validates Python code and returns error information if any.\n",
    "\n",
    "  Args:\n",
    "    code_str: The Python code as a string.\n",
    "\n",
    "  Returns:\n",
    "    None if the code is valid, otherwise a string describing the syntax error.\n",
    "  \"\"\"\n",
    "  try:\n",
    "    ast.parse(code_str)\n",
    "    return None  # No error\n",
    "  except SyntaxError as e:\n",
    "    return str(e)  # Return the error message as a string"
   ]
  },
  {
   "cell_type": "markdown",
   "id": "0a02a6af-6b3d-4480-8f22-4f203e0e89d2",
   "metadata": {},
   "source": [
    "# Evaluate GitHub Python"
   ]
  },
  {
   "cell_type": "markdown",
   "id": "7f81b545-a086-4d14-9e7b-e98f1552fc3b",
   "metadata": {},
   "source": [
    "## Load the dataset"
   ]
  },
  {
   "cell_type": "code",
   "execution_count": null,
   "id": "c2e4d5c9-d2c5-4159-9845-93b683faeee5",
   "metadata": {},
   "outputs": [],
   "source": [
    "github_python_dataset = \"../github-python-test\"\n",
    "all_data = load_json_from_folder(github_python_dataset)"
   ]
  },
  {
   "cell_type": "code",
   "execution_count": 7,
   "id": "60761007-dc6f-486e-8f38-f6683c88463e",
   "metadata": {},
   "outputs": [
    {
     "name": "stdout",
     "output_type": "stream",
     "text": [
      "Total number of objects: 37639\n",
      "First code:\n",
      " def test_delitem_keyerror ( self ) :\n",
      "    e = EntryBase ( req_ ( )\n",
      "    del e [ \"str\" ]\n",
      "\n",
      "Error (if any): '(' was never closed (<unknown>, line 2)\n"
     ]
    }
   ],
   "source": [
    "total_records = len(all_data)\n",
    "first_code = all_data[0]['src']['string_format']\n",
    "\n",
    "print(f\"Total number of objects: {total_records}\")\n",
    "print(f\"First code:\\n {first_code}\")\n",
    "print(f\"Error (if any): {validate_code(first_code)}\")"
   ]
  },
  {
   "cell_type": "code",
   "execution_count": null,
   "id": "09f3c5b2-3531-4e35-9e5f-d92173a7e4a2",
   "metadata": {},
   "outputs": [],
   "source": []
  }
 ],
 "metadata": {
  "kernelspec": {
   "display_name": "Python 3 (ipykernel)",
   "language": "python",
   "name": "python3"
  },
  "language_info": {
   "codemirror_mode": {
    "name": "ipython",
    "version": 3
   },
   "file_extension": ".py",
   "mimetype": "text/x-python",
   "name": "python",
   "nbconvert_exporter": "python",
   "pygments_lexer": "ipython3",
   "version": "3.11.9"
  }
 },
 "nbformat": 4,
 "nbformat_minor": 5
}
