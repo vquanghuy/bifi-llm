{
 "cells": [
  {
   "cell_type": "code",
   "execution_count": 4,
   "id": "a0c4a991-19fd-477f-9315-99ab18755f46",
   "metadata": {},
   "outputs": [
    {
     "name": "stdout",
     "output_type": "stream",
     "text": [
      "{'total_fixes': 700, 'successful_fixes': 645, 'success_rate': 92.14285714285714}\n"
     ]
    }
   ],
   "source": [
    "import json\n",
    "\n",
    "def summarize_successful_fixes(data):\n",
    "  \"\"\"\n",
    "  Summarizes the successful fixes from a JSON array.\n",
    "\n",
    "  Args:\n",
    "      data: A JSON array, where each object represents a code fixing attempt.\n",
    "\n",
    "  Returns:\n",
    "      A dictionary containing:\n",
    "          - total_fixes: The total number of code fixes.\n",
    "          - successful_fixes: The number of successful fixes.\n",
    "  \"\"\"\n",
    "  total_fixes = 0\n",
    "  successful_fixes = 0\n",
    "\n",
    "  for item in data:\n",
    "    total_fixes += 1\n",
    "    for attempt in item[\"attempts\"]:\n",
    "      if not attempt[\"error_message\"]:\n",
    "        successful_fixes += 1\n",
    "        break\n",
    "\n",
    "  success_rate = (successful_fixes / total_fixes) * 100 if total_fixes else 0\n",
    "  summary = {\n",
    "    \"total_fixes\": total_fixes,\n",
    "    \"successful_fixes\": successful_fixes,\n",
    "    \"success_rate\": success_rate,\n",
    "  }\n",
    "\n",
    "  return summary\n",
    "\n",
    "# Load the data from the JSON file\n",
    "with open(\"../pruto-deepfix-llm-checkpoint.700_161124-1514.json\", \"r\") as f:\n",
    "  data = json.load(f)\n",
    "\n",
    "# Summarize the successful fixes\n",
    "summary = summarize_successful_fixes(data)\n",
    "\n",
    "# Print the summary\n",
    "print(summary)"
   ]
  },
  {
   "cell_type": "code",
   "execution_count": null,
   "id": "69788759-24e5-4699-905c-91c56cdc3cba",
   "metadata": {},
   "outputs": [],
   "source": []
  }
 ],
 "metadata": {
  "kernelspec": {
   "display_name": "Python 3 (ipykernel)",
   "language": "python",
   "name": "python3"
  },
  "language_info": {
   "codemirror_mode": {
    "name": "ipython",
    "version": 3
   },
   "file_extension": ".py",
   "mimetype": "text/x-python",
   "name": "python",
   "nbconvert_exporter": "python",
   "pygments_lexer": "ipython3",
   "version": "3.11.10"
  }
 },
 "nbformat": 4,
 "nbformat_minor": 5
}
